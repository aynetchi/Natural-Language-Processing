{
  "nbformat": 4,
  "nbformat_minor": 0,
  "metadata": {
    "colab": {
      "name": " W2V.ipynb",
      "provenance": []
    },
    "kernelspec": {
      "name": "python3",
      "display_name": "Python 3"
    },
    "language_info": {
      "name": "python"
    }
  },
  "cells": [
    {
      "cell_type": "code",
      "execution_count": 1,
      "metadata": {
        "colab": {
          "base_uri": "https://localhost:8080/"
        },
        "id": "KtR-AodYX2F9",
        "outputId": "a02072a9-50da-4dfc-dda8-9f86a4c06d72"
      },
      "outputs": [
        {
          "output_type": "stream",
          "name": "stdout",
          "text": [
            "Requirement already satisfied: gensim in /usr/local/lib/python3.7/dist-packages (3.6.0)\n",
            "Collecting gensim\n",
            "  Downloading gensim-4.1.2-cp37-cp37m-manylinux_2_12_x86_64.manylinux2010_x86_64.whl (24.1 MB)\n",
            "\u001b[K     |████████████████████████████████| 24.1 MB 1.5 MB/s \n",
            "\u001b[?25hRequirement already satisfied: numpy>=1.17.0 in /usr/local/lib/python3.7/dist-packages (from gensim) (1.21.6)\n",
            "Requirement already satisfied: smart-open>=1.8.1 in /usr/local/lib/python3.7/dist-packages (from gensim) (5.2.1)\n",
            "Requirement already satisfied: scipy>=0.18.1 in /usr/local/lib/python3.7/dist-packages (from gensim) (1.4.1)\n",
            "Installing collected packages: gensim\n",
            "  Attempting uninstall: gensim\n",
            "    Found existing installation: gensim 3.6.0\n",
            "    Uninstalling gensim-3.6.0:\n",
            "      Successfully uninstalled gensim-3.6.0\n",
            "Successfully installed gensim-4.1.2\n"
          ]
        }
      ],
      "source": [
        "!pip install gensim -U"
      ]
    },
    {
      "cell_type": "code",
      "source": [
        "from google.colab import drive\n",
        "from google.colab import files\n",
        "drive.mount('/content/drive')\n",
        "\n"
      ],
      "metadata": {
        "colab": {
          "base_uri": "https://localhost:8080/"
        },
        "id": "4-Gq5nfgYz2d",
        "outputId": "2dac0127-251b-49ad-b25f-0aee5f028301"
      },
      "execution_count": 2,
      "outputs": [
        {
          "output_type": "stream",
          "name": "stdout",
          "text": [
            "Mounted at /content/drive\n",
            "[nltk_data] Downloading package punkt to /root/nltk_data...\n",
            "[nltk_data]   Unzipping tokenizers/punkt.zip.\n",
            "[nltk_data] Downloading package stopwords to /root/nltk_data...\n",
            "[nltk_data]   Unzipping corpora/stopwords.zip.\n"
          ]
        }
      ]
    },
    {
      "cell_type": "code",
      "source": [
        "import gensim\n",
        "import gensim.downloader\n",
        "from gensim.models import KeyedVectors\n",
        "from gensim.models import Word2Vec\n",
        "\n",
        "from nltk import word_tokenize, sent_tokenize\n",
        "from nltk.corpus import stopwords\n",
        "import nltk\n",
        "nltk.download('punkt')\n",
        "nltk.download('stopwords')\n",
        "import random\n",
        "from sklearn.metrics import confusion_matrix,accuracy_score"
      ],
      "metadata": {
        "id": "I8CSF0hOy0qN"
      },
      "execution_count": null,
      "outputs": []
    },
    {
      "cell_type": "code",
      "source": [
        "\n",
        "import pandas as pd\n",
        "import csv\n",
        "\n",
        "import itertools\n",
        "import os\n",
        "import operator\n",
        "import numpy as np"
      ],
      "metadata": {
        "id": "WYjmgCn7y7Dc"
      },
      "execution_count": null,
      "outputs": []
    },
    {
      "cell_type": "markdown",
      "source": [
        "# Word2Vec Class"
      ],
      "metadata": {
        "id": "w0Q36n9teEIN"
      }
    },
    {
      "cell_type": "code",
      "source": [
        "class WordToVec:\n",
        "    def __init__(self, test_path, answer_path, holmes_path, ratio, max_doc,  pre_processing, seed=True):\n",
        "        self.test_path = test_path\n",
        "        self.answer_path = answer_path\n",
        "        self.holmes_path = holmes_path\n",
        "        self.ratio = ratio\n",
        "        self.max_doc = max_doc \n",
        "        self.pre_processing = pre_processing \n",
        "        self.seed = seed \n",
        "\n",
        "        \n",
        "        \n",
        "        self.file_names = os.listdir(self.holmes_path)\n",
        "\n",
        "\n",
        "\n",
        "        self.listed_data = []\n",
        "        self.process_files()\n",
        "        self.testing = pd.read_csv(self.test_path)\n",
        "        self.labels = pd.read_csv(self.answer_path)\n",
        "    \n",
        "    def score_predictions(self, prediction):\n",
        "        return accuracy_score(self.labels['answer'].values, prediction)\n",
        "    \n",
        "    def split(self):\n",
        "        if self.seed:\n",
        "            random.seed(53)\n",
        "\n",
        "        files = self.file_names\n",
        "        shuffled = random.sample(files, len(files))\n",
        "     \n",
        "        index = int(len(files) * self.ratio)\n",
        "\n",
        "        training = files[:index]\n",
        "        held_out = files[index:]\n",
        "   \n",
        "        return training, held_out\n",
        "    \n",
        "    def process_files(self):\n",
        "        training, _ = self.split()\n",
        "        #print(training)\n",
        "        n = 1\n",
        "        stop = stopwords.words('english')\n",
        "        for file in training:\n",
        "            try:\n",
        "                text = open(os.path.join(self.holmes_path, file), \"r\")              \n",
        "                sentences = sent_tokenize(text.read().replace('\\n', ' '))\n",
        "                if not self.pre_processing:\n",
        "                    tokenized = [word_tokenize(sents)  for sents in sentences if len(sents)>3]   \n",
        "                else:\n",
        "                    tokenized = [[token for token in word_tokenize(sentence.lower()) if token.isalpha() and token not in stop] for sentence in sentences]\n",
        "                self.listed_data += tokenized\n",
        "                n += 1\n",
        "                if n > self.max_doc:\n",
        "                    break\n",
        "            except UnicodeDecodeError:\n",
        "                pass\n",
        "\n",
        "\n",
        "    def predict_and_score(self, all_models, param_title):\n",
        "        results = {}        \n",
        "        for key, model in all_models.items():\n",
        "            #print(f\"Processing {key} on the Holmes dataset\")\n",
        "            current_model = {}\n",
        "            current_model[\"model\"] = key\n",
        "            current_predictions = []\n",
        "            for i, question in self.testing.iterrows():\n",
        "                current_prediction, _ = self.predict_question(question, model)\n",
        "                current_model[\"id\"] = current_prediction\n",
        "                current_predictions.append(current_prediction)\n",
        "            \n",
        "            current_model[\"Accuracy\"]  = self.score_predictions(current_predictions)\n",
        "            results[key] = current_model\n",
        "            \n",
        "        return pd.DataFrame([(values[\"model\"], values[\"Accuracy\"]) for values in results.values()], columns = [param_title, \"Accuracy\"])   \n",
        "\n",
        "    def single_prediction(self, model):\n",
        "        predictions = []\n",
        "        similarities = []\n",
        "        for i, question in self.testing.iterrows():\n",
        "            current_prediction, similarity = self.predict_question(question, model)\n",
        "            similarities.append(similarity)\n",
        "            predictions.append(current_prediction)  \n",
        "        accuracy  = self.score_predictions(predictions)   \n",
        "        return accuracy, similarities, predictions  \n",
        "\n",
        "    def predict_question(self, row, model):\n",
        "        testing_data = word_tokenize(row[\"question\"].lower().replace(\"_____\", \"\"))\n",
        "        testing_data = [token for token in testing_data if token.isalpha() and token not in stopwords.words('english')]\n",
        "        \n",
        "        choices = ['a','b','c','d','e']\n",
        "        similarity = {}\n",
        "        \n",
        "        for choice in choices:\n",
        "            word = row[choice + \")\"]\n",
        "            total_sim = 0\n",
        "            length = len(testing_data) \n",
        "            for question in testing_data:\n",
        "                try:\n",
        "                    total_sim += model.wv.similarity(question, word)\n",
        "                except:\n",
        "                    pass\n",
        "            similarity[choice] = total_sim/(length + 1)\n",
        "            \n",
        "        return max(similarity.items(), key=operator.itemgetter(1))[0], similarity\n",
        "      \n"
      ],
      "metadata": {
        "id": "yjdRK1vmaGMZ"
      },
      "execution_count": 3,
      "outputs": []
    },
    {
      "cell_type": "markdown",
      "source": [
        "# Results"
      ],
      "metadata": {
        "id": "Ke2yGCHAeLFS"
      }
    },
    {
      "cell_type": "code",
      "source": [
        "def merge_df(doc_sizes, results, adjust=1):\n",
        "    df = pd.concat(results)\n",
        "    df[\"Doc Size\"] = sorted(doc_sizes * (len(results[0][\"Accuracy\"])*adjust))\n",
        "    df= df.sort_values(by='Accuracy', ascending=False)\n",
        "    return df\n",
        "    "
      ],
      "metadata": {
        "id": "Mm19YOSIcdba"
      },
      "execution_count": null,
      "outputs": []
    },
    {
      "cell_type": "code",
      "source": [
        "# Experiment Setup\n",
        "answers_path = \"/content/drive/MyDrive/NLP Testing/test_answer.csv\"\n",
        "questions_path = \"/content/drive/MyDrive/NLP Testing/testing_data.csv\"\n",
        "holmes_path = \"/content/drive/MyDrive/Holmes_Training_Data\"\n",
        "ratio = 0.5\n",
        "pre_processing = True\n"
      ],
      "metadata": {
        "id": "Mryc7Dy19YjI"
      },
      "execution_count": 5,
      "outputs": []
    },
    {
      "cell_type": "code",
      "source": [
        "# CBOW vs Skip Gram\n",
        "doc_sizes = [10, 50, 100, 200]\n",
        "title = \"Algorithm\"\n",
        "alg_parameters = {\"CBOW\": 0, \"Skip Gram\": 1}\n",
        "hs_ns_parameters = {0: \"Negative Sampling\", 1: \"Hierarchical Softmax\"}\n",
        "alg_results = []\n",
        "\n",
        "for max_doc in doc_sizes:\n",
        "    w2v = WordToVec(questions_path, answers_path, holmes_path, ratio, max_doc,  pre_processing, seed=True)\n",
        "    for hn in range(2):\n",
        "        models = {f\"{key} ({hs_ns_parameters[hn]})\": Word2Vec(sentences=w2v.listed_data, hs=hn, sg=values, seed=10) for key, values in alg_parameters.items()}\n",
        "        df_algs = w2v.predict_and_score(models, title)\n",
        "        alg_results.append(df_algs)\n",
        "\n",
        "\n",
        "\n"
      ],
      "metadata": {
        "id": "ptJ8bLrj9jOp"
      },
      "execution_count": null,
      "outputs": []
    },
    {
      "cell_type": "code",
      "source": [
        "df = merge_df(doc_sizes, alg_results,2)\n",
        "df"
      ],
      "metadata": {
        "id": "qiTK6r92nVDR"
      },
      "execution_count": null,
      "outputs": []
    },
    {
      "cell_type": "code",
      "source": [
        "doc_sizes = [200]\n",
        "# Sample Sizes\n",
        "sample_name = \"Sample\"\n",
        "sample_parameters = [1, 0.5, 0.1, 0.01, 0.001, 0.0001, 0] \n",
        "sample_results = []\n",
        "# Minimum Count \n",
        "minCount_name = \"Minimum Count\"\n",
        "minCount_parameters = list(range(1, 10))\n",
        "minCount_results = []\n",
        "# Window\n",
        "window_name = \"Window\"\n",
        "window_parameters = [4, 6, 8, 10, 12, 14, 16, 18]\n",
        "window_results = []\n",
        "# Alpha Values\n",
        "alpha_name = \"Alpha\" \n",
        "alpha_parameters = [0.01, 0.025, 0.05, 0.1, 1.5, 2]\n",
        "alpha_results = []\n",
        "\n",
        "for max_doc in doc_sizes:\n",
        "    # Running W2V model on a given doc size\n",
        "    w2v = WordToVec(questions_path, answers_path, holmes_path, ratio, max_doc,  pre_processing, seed=True)\n",
        "    # Getting results for different sample sizes\n",
        "    models = {key: Word2Vec(sentences=w2v.listed_data, sample=values, sg=1, hs=1, seed=10) for key, values in {str(val): val for val in sample_parameters}.items()}\n",
        "    df_samples = w2v.predict_and_score(models, sample_name)\n",
        "    sample_results.append(df_samples)\n",
        "    # Getting results for different sample sizes\n",
        "    models = {key: Word2Vec(sentences=w2v.listed_data, min_count=values, sg=1, hs=1, seed=10) for key, values in {str(val): val for val in minCount_parameters}.items()}\n",
        "    df_minCount = w2v.predict_and_score(models, minCount_name)\n",
        "    minCount_results.append(df_minCount)\n",
        "    # Getting results for different windows\n",
        "    models = {key: Word2Vec(sentences=w2v.listed_data, window=values, sg=1, hs=1, seed=10) for key, values in {str(val): val for val in window_parameters}.items()}\n",
        "    df_window = w2v.predict_and_score(models, window_name)\n",
        "    window_results.append(df_window)\n",
        "    # Getting results for different alpha values\n",
        "    models = {key: Word2Vec(sentences=w2v.listed_data, alpha=values, sg=1, hs=1, seed=10) for key, values in {str(val): val for val in alpha_parameters}.items()}\n",
        "    df_alpha = w2v.predict_and_score(models, alpha_name)\n",
        "    alpha_results.append(df_alpha)"
      ],
      "metadata": {
        "id": "DvX2kEtlS-ri"
      },
      "execution_count": null,
      "outputs": []
    },
    {
      "cell_type": "code",
      "source": [
        "df = merge_df(doc_sizes, sample_results)\n",
        "\n",
        "df.to_csv(\"/content/drive/MyDrive/NLP Testing/Sample.csv\", encoding='utf-8', index=False)"
      ],
      "metadata": {
        "id": "6wSQB_U6bHMa"
      },
      "execution_count": null,
      "outputs": []
    },
    {
      "cell_type": "code",
      "source": [
        "df = merge_df(doc_sizes, minCount_results)\n",
        "df.to_csv(\"/content/drive/MyDrive/NLP Testing/minCount.csv\", encoding='utf-8', index=False)"
      ],
      "metadata": {
        "id": "c1ooH30Z6nUV"
      },
      "execution_count": null,
      "outputs": []
    },
    {
      "cell_type": "code",
      "source": [
        "df=merge_df(doc_sizes, window_results)\n",
        "df.to_csv(\"/content/drive/MyDrive/NLP Testing/window_results.csv\", encoding='utf-8', index=False)"
      ],
      "metadata": {
        "id": "_NlaWnsBQyQM"
      },
      "execution_count": null,
      "outputs": []
    },
    {
      "cell_type": "code",
      "source": [
        "df = merge_df(doc_sizes, alpha_results)\n",
        "\n",
        "df.to_csv(\"/content/drive/MyDrive/NLP Testing/alpha.csv\", encoding='utf-8', index=False)"
      ],
      "metadata": {
        "id": "9sHuQpGS7HxS"
      },
      "execution_count": null,
      "outputs": []
    },
    {
      "cell_type": "code",
      "source": [
        "sample_parameters = [0.5, 0.1, 0.01] \n",
        "alpha_parameters = [0.025, 0.05]\n",
        "\n",
        "results_comb = []\n",
        "w2v = WordToVec(questions_path, answers_path, holmes_path, ratio, 200,  pre_processing, seed=True)\n",
        "for samp in sample_parameters:\n",
        "    for alpha in alpha_parameters:\n",
        "        model = Word2Vec(sentences=w2v.listed_data, sample=samp, alpha=alpha, min_count=2, window=6, sg=1, hs=1, seed=10)\n",
        "        \n",
        "        df_combined = w2v.single_prediction(model)\n",
        "        results_comb.append((samp, alpha, df_combined))\n",
        "\n",
        "\n"
      ],
      "metadata": {
        "id": "Tw9GvnW6vZRj"
      },
      "execution_count": null,
      "outputs": []
    },
    {
      "cell_type": "code",
      "source": [
        "results_comb"
      ],
      "metadata": {
        "colab": {
          "base_uri": "https://localhost:8080/"
        },
        "id": "aUjlrdzYAxmk",
        "outputId": "b08f7c9d-9223-471c-9dad-d2a2b7694387"
      },
      "execution_count": null,
      "outputs": [
        {
          "output_type": "execute_result",
          "data": {
            "text/plain": [
              "[(0.5, 0.025, 0.19903846153846153),\n",
              " (0.5, 0.05, 0.19903846153846153),\n",
              " (0.1, 0.025, 0.19903846153846153),\n",
              " (0.1, 0.05, 0.19903846153846153),\n",
              " (0.01, 0.025, 0.19903846153846153),\n",
              " (0.01, 0.05, 0.19903846153846153)]"
            ]
          },
          "metadata": {},
          "execution_count": 25
        }
      ]
    },
    {
      "cell_type": "code",
      "source": [
        "df = pd.DataFrame(results_comb, columns=[\"Sample Size\", \"Alpha Value\", \"Accuracy\"])\n",
        "df"
      ],
      "metadata": {
        "colab": {
          "base_uri": "https://localhost:8080/",
          "height": 237
        },
        "id": "s95ySqAK_mc4",
        "outputId": "96eea1b0-b41d-4bd3-ed4a-b5220b241397"
      },
      "execution_count": 31,
      "outputs": [
        {
          "output_type": "execute_result",
          "data": {
            "text/plain": [
              "   Sample Size  Alpha Value  Accuracy\n",
              "0         0.50        0.025  0.488462\n",
              "1         0.50        0.050  0.473077\n",
              "2         0.10        0.025  0.495192\n",
              "3         0.10        0.050  0.480769\n",
              "4         0.01        0.025  0.477885\n",
              "5         0.01        0.050  0.486538"
            ],
            "text/html": [
              "\n",
              "  <div id=\"df-56fee296-35ef-432d-bdf8-bf8cde5df1d6\">\n",
              "    <div class=\"colab-df-container\">\n",
              "      <div>\n",
              "<style scoped>\n",
              "    .dataframe tbody tr th:only-of-type {\n",
              "        vertical-align: middle;\n",
              "    }\n",
              "\n",
              "    .dataframe tbody tr th {\n",
              "        vertical-align: top;\n",
              "    }\n",
              "\n",
              "    .dataframe thead th {\n",
              "        text-align: right;\n",
              "    }\n",
              "</style>\n",
              "<table border=\"1\" class=\"dataframe\">\n",
              "  <thead>\n",
              "    <tr style=\"text-align: right;\">\n",
              "      <th></th>\n",
              "      <th>Sample Size</th>\n",
              "      <th>Alpha Value</th>\n",
              "      <th>Accuracy</th>\n",
              "    </tr>\n",
              "  </thead>\n",
              "  <tbody>\n",
              "    <tr>\n",
              "      <th>0</th>\n",
              "      <td>0.50</td>\n",
              "      <td>0.025</td>\n",
              "      <td>0.488462</td>\n",
              "    </tr>\n",
              "    <tr>\n",
              "      <th>1</th>\n",
              "      <td>0.50</td>\n",
              "      <td>0.050</td>\n",
              "      <td>0.473077</td>\n",
              "    </tr>\n",
              "    <tr>\n",
              "      <th>2</th>\n",
              "      <td>0.10</td>\n",
              "      <td>0.025</td>\n",
              "      <td>0.495192</td>\n",
              "    </tr>\n",
              "    <tr>\n",
              "      <th>3</th>\n",
              "      <td>0.10</td>\n",
              "      <td>0.050</td>\n",
              "      <td>0.480769</td>\n",
              "    </tr>\n",
              "    <tr>\n",
              "      <th>4</th>\n",
              "      <td>0.01</td>\n",
              "      <td>0.025</td>\n",
              "      <td>0.477885</td>\n",
              "    </tr>\n",
              "    <tr>\n",
              "      <th>5</th>\n",
              "      <td>0.01</td>\n",
              "      <td>0.050</td>\n",
              "      <td>0.486538</td>\n",
              "    </tr>\n",
              "  </tbody>\n",
              "</table>\n",
              "</div>\n",
              "      <button class=\"colab-df-convert\" onclick=\"convertToInteractive('df-56fee296-35ef-432d-bdf8-bf8cde5df1d6')\"\n",
              "              title=\"Convert this dataframe to an interactive table.\"\n",
              "              style=\"display:none;\">\n",
              "        \n",
              "  <svg xmlns=\"http://www.w3.org/2000/svg\" height=\"24px\"viewBox=\"0 0 24 24\"\n",
              "       width=\"24px\">\n",
              "    <path d=\"M0 0h24v24H0V0z\" fill=\"none\"/>\n",
              "    <path d=\"M18.56 5.44l.94 2.06.94-2.06 2.06-.94-2.06-.94-.94-2.06-.94 2.06-2.06.94zm-11 1L8.5 8.5l.94-2.06 2.06-.94-2.06-.94L8.5 2.5l-.94 2.06-2.06.94zm10 10l.94 2.06.94-2.06 2.06-.94-2.06-.94-.94-2.06-.94 2.06-2.06.94z\"/><path d=\"M17.41 7.96l-1.37-1.37c-.4-.4-.92-.59-1.43-.59-.52 0-1.04.2-1.43.59L10.3 9.45l-7.72 7.72c-.78.78-.78 2.05 0 2.83L4 21.41c.39.39.9.59 1.41.59.51 0 1.02-.2 1.41-.59l7.78-7.78 2.81-2.81c.8-.78.8-2.07 0-2.86zM5.41 20L4 18.59l7.72-7.72 1.47 1.35L5.41 20z\"/>\n",
              "  </svg>\n",
              "      </button>\n",
              "      \n",
              "  <style>\n",
              "    .colab-df-container {\n",
              "      display:flex;\n",
              "      flex-wrap:wrap;\n",
              "      gap: 12px;\n",
              "    }\n",
              "\n",
              "    .colab-df-convert {\n",
              "      background-color: #E8F0FE;\n",
              "      border: none;\n",
              "      border-radius: 50%;\n",
              "      cursor: pointer;\n",
              "      display: none;\n",
              "      fill: #1967D2;\n",
              "      height: 32px;\n",
              "      padding: 0 0 0 0;\n",
              "      width: 32px;\n",
              "    }\n",
              "\n",
              "    .colab-df-convert:hover {\n",
              "      background-color: #E2EBFA;\n",
              "      box-shadow: 0px 1px 2px rgba(60, 64, 67, 0.3), 0px 1px 3px 1px rgba(60, 64, 67, 0.15);\n",
              "      fill: #174EA6;\n",
              "    }\n",
              "\n",
              "    [theme=dark] .colab-df-convert {\n",
              "      background-color: #3B4455;\n",
              "      fill: #D2E3FC;\n",
              "    }\n",
              "\n",
              "    [theme=dark] .colab-df-convert:hover {\n",
              "      background-color: #434B5C;\n",
              "      box-shadow: 0px 1px 3px 1px rgba(0, 0, 0, 0.15);\n",
              "      filter: drop-shadow(0px 1px 2px rgba(0, 0, 0, 0.3));\n",
              "      fill: #FFFFFF;\n",
              "    }\n",
              "  </style>\n",
              "\n",
              "      <script>\n",
              "        const buttonEl =\n",
              "          document.querySelector('#df-56fee296-35ef-432d-bdf8-bf8cde5df1d6 button.colab-df-convert');\n",
              "        buttonEl.style.display =\n",
              "          google.colab.kernel.accessAllowed ? 'block' : 'none';\n",
              "\n",
              "        async function convertToInteractive(key) {\n",
              "          const element = document.querySelector('#df-56fee296-35ef-432d-bdf8-bf8cde5df1d6');\n",
              "          const dataTable =\n",
              "            await google.colab.kernel.invokeFunction('convertToInteractive',\n",
              "                                                     [key], {});\n",
              "          if (!dataTable) return;\n",
              "\n",
              "          const docLinkHtml = 'Like what you see? Visit the ' +\n",
              "            '<a target=\"_blank\" href=https://colab.research.google.com/notebooks/data_table.ipynb>data table notebook</a>'\n",
              "            + ' to learn more about interactive tables.';\n",
              "          element.innerHTML = '';\n",
              "          dataTable['output_type'] = 'display_data';\n",
              "          await google.colab.output.renderOutput(dataTable, element);\n",
              "          const docLink = document.createElement('div');\n",
              "          docLink.innerHTML = docLinkHtml;\n",
              "          element.appendChild(docLink);\n",
              "        }\n",
              "      </script>\n",
              "    </div>\n",
              "  </div>\n",
              "  "
            ]
          },
          "metadata": {},
          "execution_count": 31
        }
      ]
    },
    {
      "cell_type": "code",
      "source": [
        "w2v = WordToVec(questions_path, answers_path, holmes_path, ratio, 200,  pre_processing, seed=True)"
      ],
      "metadata": {
        "id": "h3nJZLz2-Sw1"
      },
      "execution_count": 6,
      "outputs": []
    },
    {
      "cell_type": "code",
      "source": [
        "model = Word2Vec(sentences=w2v.listed_data, sample=0.05, alpha=0.025, min_count=2, window=6, sg=1, hs=1, seed=10)\n",
        "a,b,c=w2v.single_prediction(model)\n"
      ],
      "metadata": {
        "id": "OOJ6owZfQr0_"
      },
      "execution_count": 7,
      "outputs": []
    },
    {
      "cell_type": "code",
      "source": [
        "sorted([2,3,4,1], reverse=True)"
      ],
      "metadata": {
        "colab": {
          "base_uri": "https://localhost:8080/"
        },
        "id": "uX_jaL8RkCeX",
        "outputId": "4a57a5e3-a861-4fd1-9e6a-59694ee83f78"
      },
      "execution_count": 56,
      "outputs": [
        {
          "output_type": "execute_result",
          "data": {
            "text/plain": [
              "[4, 3, 2, 1]"
            ]
          },
          "metadata": {},
          "execution_count": 56
        }
      ]
    },
    {
      "cell_type": "code",
      "source": [
        " sll = list(w2v.labels[\"answer\"])\n",
        " predictions__=[1 if sll[i] == c[i] else 0 for i in range(len(c))]\n",
        " sum(predictions__)"
      ],
      "metadata": {
        "colab": {
          "base_uri": "https://localhost:8080/"
        },
        "id": "yGHO_yQT6HaZ",
        "outputId": "c8c40a2c-8ce1-4aea-c9b5-6ad52be5b9c4"
      },
      "execution_count": 8,
      "outputs": [
        {
          "output_type": "execute_result",
          "data": {
            "text/plain": [
              "503"
            ]
          },
          "metadata": {},
          "execution_count": 8
        }
      ]
    },
    {
      "cell_type": "code",
      "source": [
        "uncertainty_index = [a[0]/a[1] if a[1] != 0 else 1 for a in [sorted(list(i.values()))[3:] for i in b]]"
      ],
      "metadata": {
        "id": "TradqVK_8UuW"
      },
      "execution_count": 9,
      "outputs": []
    },
    {
      "cell_type": "code",
      "source": [
        "df = pd.DataFrame(data={\"Uncertainty Index\": uncertainty_index, \"Predictions\": predictions__})"
      ],
      "metadata": {
        "id": "K6XpL_5cjOA0"
      },
      "execution_count": 10,
      "outputs": []
    },
    {
      "cell_type": "code",
      "source": [
        "df = df.sort_values(by='Uncertainty Index')\n"
      ],
      "metadata": {
        "id": "-gxhMPWDmnxB"
      },
      "execution_count": 82,
      "outputs": []
    },
    {
      "cell_type": "code",
      "source": [
        "df.to_csv(\"/content/drive/MyDrive/NLP Testing/w2vpredsss.csv\")"
      ],
      "metadata": {
        "id": "KMJVqd40mxpz"
      },
      "execution_count": 12,
      "outputs": []
    },
    {
      "cell_type": "code",
      "source": [
        "error_analysis = []\n",
        "count = 0 \n",
        "for index, pred in zip(list(df[\"Uncertainty Index\"]), list(df[\"Predictions\"])):\n",
        "  count+=1\n",
        "  if count % 100 == 0:\n",
        "    a = df[df[\"Uncertainty Index\"] < index]\n",
        "    score = sum(list(a[\"Predictions\"]))/len(a[\"Predictions\"])\n",
        "    error_analysis.append((count, index, score))\n"
      ],
      "metadata": {
        "id": "zK_9i9orqSNc"
      },
      "execution_count": 93,
      "outputs": []
    },
    {
      "cell_type": "code",
      "source": [
        ""
      ],
      "metadata": {
        "id": "hk3qFhouyy7E"
      },
      "execution_count": null,
      "outputs": []
    },
    {
      "cell_type": "code",
      "source": [
        "df_error = pd.DataFrame(error_analysis, columns=[\"Sentences Processed\", \"Uncertainty Index\", \"Accuracy\"])"
      ],
      "metadata": {
        "id": "9jzVQgZ-myV1"
      },
      "execution_count": 96,
      "outputs": []
    },
    {
      "cell_type": "code",
      "source": [
        "df_error.to_csv(\"/content/drive/MyDrive/NLP Testing/w2vError.csv\")"
      ],
      "metadata": {
        "id": "WHMUFNf6rA3r"
      },
      "execution_count": 98,
      "outputs": []
    },
    {
      "cell_type": "code",
      "source": [
        "df_error\n"
      ],
      "metadata": {
        "colab": {
          "base_uri": "https://localhost:8080/",
          "height": 362
        },
        "id": "H4XDi7GCuW9G",
        "outputId": "3c4cabed-aefa-4aef-cb85-d45967608b46"
      },
      "execution_count": 99,
      "outputs": [
        {
          "output_type": "execute_result",
          "data": {
            "text/plain": [
              "   Sentences Processed  Uncertainty Index  Accuracy\n",
              "0                  100           0.692307  0.767677\n",
              "1                  200           0.770390  0.743719\n",
              "2                  300           0.817640  0.692308\n",
              "3                  400           0.850744  0.656642\n",
              "4                  500           0.880497  0.625251\n",
              "5                  600           0.907823  0.594324\n",
              "6                  700           0.930459  0.556509\n",
              "7                  800           0.953507  0.543179\n",
              "8                  900           0.972333  0.515017\n",
              "9                 1000           0.990390  0.496496"
            ],
            "text/html": [
              "\n",
              "  <div id=\"df-f0dc4e61-2c69-4c4d-9193-7180352b6a30\">\n",
              "    <div class=\"colab-df-container\">\n",
              "      <div>\n",
              "<style scoped>\n",
              "    .dataframe tbody tr th:only-of-type {\n",
              "        vertical-align: middle;\n",
              "    }\n",
              "\n",
              "    .dataframe tbody tr th {\n",
              "        vertical-align: top;\n",
              "    }\n",
              "\n",
              "    .dataframe thead th {\n",
              "        text-align: right;\n",
              "    }\n",
              "</style>\n",
              "<table border=\"1\" class=\"dataframe\">\n",
              "  <thead>\n",
              "    <tr style=\"text-align: right;\">\n",
              "      <th></th>\n",
              "      <th>Sentences Processed</th>\n",
              "      <th>Uncertainty Index</th>\n",
              "      <th>Accuracy</th>\n",
              "    </tr>\n",
              "  </thead>\n",
              "  <tbody>\n",
              "    <tr>\n",
              "      <th>0</th>\n",
              "      <td>100</td>\n",
              "      <td>0.692307</td>\n",
              "      <td>0.767677</td>\n",
              "    </tr>\n",
              "    <tr>\n",
              "      <th>1</th>\n",
              "      <td>200</td>\n",
              "      <td>0.770390</td>\n",
              "      <td>0.743719</td>\n",
              "    </tr>\n",
              "    <tr>\n",
              "      <th>2</th>\n",
              "      <td>300</td>\n",
              "      <td>0.817640</td>\n",
              "      <td>0.692308</td>\n",
              "    </tr>\n",
              "    <tr>\n",
              "      <th>3</th>\n",
              "      <td>400</td>\n",
              "      <td>0.850744</td>\n",
              "      <td>0.656642</td>\n",
              "    </tr>\n",
              "    <tr>\n",
              "      <th>4</th>\n",
              "      <td>500</td>\n",
              "      <td>0.880497</td>\n",
              "      <td>0.625251</td>\n",
              "    </tr>\n",
              "    <tr>\n",
              "      <th>5</th>\n",
              "      <td>600</td>\n",
              "      <td>0.907823</td>\n",
              "      <td>0.594324</td>\n",
              "    </tr>\n",
              "    <tr>\n",
              "      <th>6</th>\n",
              "      <td>700</td>\n",
              "      <td>0.930459</td>\n",
              "      <td>0.556509</td>\n",
              "    </tr>\n",
              "    <tr>\n",
              "      <th>7</th>\n",
              "      <td>800</td>\n",
              "      <td>0.953507</td>\n",
              "      <td>0.543179</td>\n",
              "    </tr>\n",
              "    <tr>\n",
              "      <th>8</th>\n",
              "      <td>900</td>\n",
              "      <td>0.972333</td>\n",
              "      <td>0.515017</td>\n",
              "    </tr>\n",
              "    <tr>\n",
              "      <th>9</th>\n",
              "      <td>1000</td>\n",
              "      <td>0.990390</td>\n",
              "      <td>0.496496</td>\n",
              "    </tr>\n",
              "  </tbody>\n",
              "</table>\n",
              "</div>\n",
              "      <button class=\"colab-df-convert\" onclick=\"convertToInteractive('df-f0dc4e61-2c69-4c4d-9193-7180352b6a30')\"\n",
              "              title=\"Convert this dataframe to an interactive table.\"\n",
              "              style=\"display:none;\">\n",
              "        \n",
              "  <svg xmlns=\"http://www.w3.org/2000/svg\" height=\"24px\"viewBox=\"0 0 24 24\"\n",
              "       width=\"24px\">\n",
              "    <path d=\"M0 0h24v24H0V0z\" fill=\"none\"/>\n",
              "    <path d=\"M18.56 5.44l.94 2.06.94-2.06 2.06-.94-2.06-.94-.94-2.06-.94 2.06-2.06.94zm-11 1L8.5 8.5l.94-2.06 2.06-.94-2.06-.94L8.5 2.5l-.94 2.06-2.06.94zm10 10l.94 2.06.94-2.06 2.06-.94-2.06-.94-.94-2.06-.94 2.06-2.06.94z\"/><path d=\"M17.41 7.96l-1.37-1.37c-.4-.4-.92-.59-1.43-.59-.52 0-1.04.2-1.43.59L10.3 9.45l-7.72 7.72c-.78.78-.78 2.05 0 2.83L4 21.41c.39.39.9.59 1.41.59.51 0 1.02-.2 1.41-.59l7.78-7.78 2.81-2.81c.8-.78.8-2.07 0-2.86zM5.41 20L4 18.59l7.72-7.72 1.47 1.35L5.41 20z\"/>\n",
              "  </svg>\n",
              "      </button>\n",
              "      \n",
              "  <style>\n",
              "    .colab-df-container {\n",
              "      display:flex;\n",
              "      flex-wrap:wrap;\n",
              "      gap: 12px;\n",
              "    }\n",
              "\n",
              "    .colab-df-convert {\n",
              "      background-color: #E8F0FE;\n",
              "      border: none;\n",
              "      border-radius: 50%;\n",
              "      cursor: pointer;\n",
              "      display: none;\n",
              "      fill: #1967D2;\n",
              "      height: 32px;\n",
              "      padding: 0 0 0 0;\n",
              "      width: 32px;\n",
              "    }\n",
              "\n",
              "    .colab-df-convert:hover {\n",
              "      background-color: #E2EBFA;\n",
              "      box-shadow: 0px 1px 2px rgba(60, 64, 67, 0.3), 0px 1px 3px 1px rgba(60, 64, 67, 0.15);\n",
              "      fill: #174EA6;\n",
              "    }\n",
              "\n",
              "    [theme=dark] .colab-df-convert {\n",
              "      background-color: #3B4455;\n",
              "      fill: #D2E3FC;\n",
              "    }\n",
              "\n",
              "    [theme=dark] .colab-df-convert:hover {\n",
              "      background-color: #434B5C;\n",
              "      box-shadow: 0px 1px 3px 1px rgba(0, 0, 0, 0.15);\n",
              "      filter: drop-shadow(0px 1px 2px rgba(0, 0, 0, 0.3));\n",
              "      fill: #FFFFFF;\n",
              "    }\n",
              "  </style>\n",
              "\n",
              "      <script>\n",
              "        const buttonEl =\n",
              "          document.querySelector('#df-f0dc4e61-2c69-4c4d-9193-7180352b6a30 button.colab-df-convert');\n",
              "        buttonEl.style.display =\n",
              "          google.colab.kernel.accessAllowed ? 'block' : 'none';\n",
              "\n",
              "        async function convertToInteractive(key) {\n",
              "          const element = document.querySelector('#df-f0dc4e61-2c69-4c4d-9193-7180352b6a30');\n",
              "          const dataTable =\n",
              "            await google.colab.kernel.invokeFunction('convertToInteractive',\n",
              "                                                     [key], {});\n",
              "          if (!dataTable) return;\n",
              "\n",
              "          const docLinkHtml = 'Like what you see? Visit the ' +\n",
              "            '<a target=\"_blank\" href=https://colab.research.google.com/notebooks/data_table.ipynb>data table notebook</a>'\n",
              "            + ' to learn more about interactive tables.';\n",
              "          element.innerHTML = '';\n",
              "          dataTable['output_type'] = 'display_data';\n",
              "          await google.colab.output.renderOutput(dataTable, element);\n",
              "          const docLink = document.createElement('div');\n",
              "          docLink.innerHTML = docLinkHtml;\n",
              "          element.appendChild(docLink);\n",
              "        }\n",
              "      </script>\n",
              "    </div>\n",
              "  </div>\n",
              "  "
            ]
          },
          "metadata": {},
          "execution_count": 99
        }
      ]
    },
    {
      "cell_type": "code",
      "source": [
        ""
      ],
      "metadata": {
        "id": "PXIZwudSzyG2"
      },
      "execution_count": null,
      "outputs": []
    }
  ]
}