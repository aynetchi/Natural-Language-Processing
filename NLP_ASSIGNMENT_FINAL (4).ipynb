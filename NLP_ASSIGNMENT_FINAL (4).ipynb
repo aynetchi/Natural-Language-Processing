{
  "nbformat": 4,
  "nbformat_minor": 0,
  "metadata": {
    "colab": {
      "name": "NLP ASSIGNMENT FINAL.ipynb",
      "provenance": [],
      "collapsed_sections": []
    },
    "kernelspec": {
      "display_name": "Python 3",
      "language": "python",
      "name": "python3"
    },
    "language_info": {
      "codemirror_mode": {
        "name": "ipython",
        "version": 3
      },
      "file_extension": ".py",
      "mimetype": "text/x-python",
      "name": "python",
      "nbconvert_exporter": "python",
      "pygments_lexer": "ipython3",
      "version": "3.7.4"
    }
  },
  "cells": [
    {
      "cell_type": "markdown",
      "metadata": {
        "id": "f2S8I2ny-ovS"
      },
      "source": [
        "# NLE Assignment: Sentiment Classification\n",
        "\n",
        "In this assignment, you will be investigating NLP methods for distinguishing positive and negative reviews written about movies.\n",
        "\n",
        "For assessment, you are expected to complete and submit this notebook file.  When answers require code, you may import and use library functions (unless explicitly told otherwise).  All of your own code should be included in the notebook rather than imported from elsewhere.  Written answers should also be included in the notebook.  You should insert as many extra cells as you want and change the type between code and markdown as appropriate.\n",
        "\n",
        "In order to avoid misconduct, you should not talk about the assignment questions with your peers.  If you are not sure what a question is asking you to do or have any other questions, please ask me or one of the Teaching Assistants.\n",
        "\n",
        "Marking guidelines are provided as a separate document.\n",
        "\n",
        "The first few cells contain code to set-up the assignment and bring in some data.   In order to provide unique datasets for analysis by different students, you must enter your candidate number in the following cell.  Otherwise do not change the code in these cells."
      ]
    },
    {
      "cell_type": "code",
      "metadata": {
        "id": "1gXQAZas-l9c"
      },
      "source": [
        "candidateno=237707 #this MUST be updated to your candidate number so that you get a unique data sample\n"
      ],
      "execution_count": 1,
      "outputs": []
    },
    {
      "cell_type": "code",
      "metadata": {
        "id": "nk8JTP88A8vs",
        "colab": {
          "base_uri": "https://localhost:8080/"
        },
        "outputId": "39eb9280-3ae1-42cf-d59d-45a465c8beae"
      },
      "source": [
        "#do not change the code in this cell\n",
        "#preliminary imports\n",
        "\n",
        "#set up nltk\n",
        "import nltk\n",
        "nltk.download('punkt')\n",
        "nltk.download('stopwords')\n",
        "nltk.download('wordnet')\n",
        "nltk.download('movie_reviews')\n",
        "from nltk.corpus import stopwords\n",
        "from nltk.tokenize import word_tokenize\n",
        "from nltk.corpus import movie_reviews\n",
        "\n",
        "#for setting up training and testing data\n",
        "import random\n",
        "\n",
        "#useful other tools\n",
        "import re\n",
        "import pandas as pd\n",
        "import matplotlib.pyplot as plt\n",
        "%matplotlib inline\n",
        "from itertools import zip_longest\n",
        "from nltk.probability import FreqDist\n",
        "from nltk.classify.api import ClassifierI\n",
        "from sklearn.model_selection import train_test_split\n",
        "from sklearn.metrics import classification_report \n",
        "from sklearn import preprocessing\n",
        "import statistics\n"
      ],
      "execution_count": 2,
      "outputs": [
        {
          "output_type": "stream",
          "name": "stdout",
          "text": [
            "[nltk_data] Downloading package punkt to /root/nltk_data...\n",
            "[nltk_data]   Package punkt is already up-to-date!\n",
            "[nltk_data] Downloading package stopwords to /root/nltk_data...\n",
            "[nltk_data]   Package stopwords is already up-to-date!\n",
            "[nltk_data] Downloading package wordnet to /root/nltk_data...\n",
            "[nltk_data]   Package wordnet is already up-to-date!\n",
            "[nltk_data] Downloading package movie_reviews to /root/nltk_data...\n",
            "[nltk_data]   Package movie_reviews is already up-to-date!\n"
          ]
        }
      ]
    },
    {
      "cell_type": "code",
      "metadata": {
        "id": "BHBkzAccCVaZ"
      },
      "source": [
        "#do not change the code in this cell\n",
        "def split_data(data, ratio=0.7): # when the second argument is not given, it defaults to 0.7\n",
        "    \"\"\"\n",
        "    Given corpus generator and ratio:\n",
        "     - partitions the corpus into training data and test data, where the proportion in train is ratio,\n",
        "\n",
        "    :param data: A corpus generator.\n",
        "    :param ratio: The proportion of training documents (default 0.7)\n",
        "    :return: a pair (tuple) of lists where the first element of the \n",
        "            pair is a list of the training data and the second is a list of the test data.\n",
        "    \"\"\"\n",
        "    \n",
        "    data = list(data)  \n",
        "    n = len(data)  \n",
        "    train_indices = random.sample(range(n), int(n * ratio))          \n",
        "    test_indices = list(set(range(n)) - set(train_indices))    \n",
        "    train = [data[i] for i in train_indices]           \n",
        "    test = [data[i] for i in test_indices]             \n",
        "    return (train, test)                       \n",
        " \n",
        "\n",
        "def get_train_test_data():\n",
        "    \n",
        "    #get ids of positive and negative movie reviews\n",
        "    pos_review_ids=movie_reviews.fileids('pos')\n",
        "    neg_review_ids=movie_reviews.fileids('neg')\n",
        "   \n",
        "    #split positive and negative data into training and testing sets\n",
        "    pos_train_ids, pos_test_ids = split_data(pos_review_ids)\n",
        "    neg_train_ids, neg_test_ids = split_data(neg_review_ids)\n",
        "    #add labels to the data and concatenate\n",
        "    training = [(movie_reviews.words(f),'pos') for f in pos_train_ids]+[(movie_reviews.words(f),'neg') for f in neg_train_ids]\n",
        "    testing = [(movie_reviews.words(f),'pos') for f in pos_test_ids]+[(movie_reviews.words(f),'neg') for f in neg_test_ids]\n",
        "   \n",
        "    return training, testing"
      ],
      "execution_count": 3,
      "outputs": []
    },
    {
      "cell_type": "markdown",
      "metadata": {
        "id": "1N3LWwBYICPP"
      },
      "source": [
        "When you have run the cell below, your unique training and testing samples will be stored in `training_data` and `testing_data`"
      ]
    },
    {
      "cell_type": "code",
      "metadata": {
        "id": "HJLegkdPFUJA",
        "colab": {
          "base_uri": "https://localhost:8080/"
        },
        "outputId": "cfa60070-d7cf-471b-f403-f1167a93e401"
      },
      "source": [
        "#do not change the code in this cell\n",
        "random.seed(candidateno)\n",
        "training_data,testing_data=get_train_test_data()\n",
        "print(\"The amount of training data is {}\".format(len(training_data)))\n",
        "print(\"The amount of testing data is {}\".format(len(testing_data)))\n",
        "print(\"The representation of a single data item is below\")\n",
        "print(training_data[0])"
      ],
      "execution_count": 4,
      "outputs": [
        {
          "output_type": "stream",
          "name": "stdout",
          "text": [
            "The amount of training data is 1400\n",
            "The amount of testing data is 600\n",
            "The representation of a single data item is below\n",
            "(['the', 'summer', 'movie', 'season', 'is', 'always', ...], 'pos')\n"
          ]
        }
      ]
    },
    {
      "cell_type": "markdown",
      "metadata": {
        "id": "wdT3dLy9nuMN"
      },
      "source": [
        "1)  \n",
        "a) **Generate** a list of 10 content words which are representative of the positive reviews in your training data.\n",
        "\n",
        "b) **Generate** a list of 10 content words which are representative of the negative reviews in your training data.\n",
        "\n",
        "c) **Explain** what you have done and why\n",
        "\n",
        "[20\\%]"
      ]
    },
    {
      "cell_type": "code",
      "metadata": {
        "id": "ey0eamTQCPzo"
      },
      "source": [
        "# Splitting the training and testing data \n",
        "def split_my_data(data, ratio = 0.7):\n",
        "    n = len(data)  \n",
        "    train_indices = random.sample(range(n), int(n * ratio))          \n",
        "    test_indices = list(set(range(n)) - set(train_indices))   \n",
        "    train = [data[i] for i in train_indices]           \n",
        "    test = [data[i] for i in test_indices]  \n",
        "    return train, test "
      ],
      "execution_count": 5,
      "outputs": []
    },
    {
      "cell_type": "code",
      "metadata": {
        "id": "zRG31M79nuMO"
      },
      "source": [
        "# Pre-processing function - Removes stop words and applies stemming\n",
        "\n",
        "from nltk.stem.porter import PorterStemmer\n",
        "\n",
        "stop = stopwords.words('english') \n",
        "st = PorterStemmer()\n",
        "\n",
        "def pre_processing(words):\n",
        "    stop_words = [i for i in words if i.isalpha() and i not in stop]\n",
        "    stemm = [st.stem(token) for token in stop_words]\n",
        "    return stemm\n"
      ],
      "execution_count": 6,
      "outputs": []
    },
    {
      "cell_type": "code",
      "metadata": {
        "id": "AzPP9GJZnuMP"
      },
      "source": [
        "# Separating the positive and negative reviews\n",
        "pos_review_ids = movie_reviews.fileids('pos')\n",
        "neg_review_ids = movie_reviews.fileids('neg')\n",
        "\n",
        "# Splitting the training and testing data \n",
        "pos_train_ids, pos_test_ids = split_my_data(pos_review_ids)\n",
        "neg_train_ids, neg_test_ids = split_my_data(neg_review_ids)\n",
        "\n",
        "# Merging the testing data\n",
        "training = [(movie_reviews.words(f),'pos') for f in pos_train_ids]+[(movie_reviews.words(f),'neg') for f in neg_train_ids]\n",
        "testing = [(movie_reviews.words(f),'pos') for f in pos_test_ids]+[(movie_reviews.words(f),'neg') for f in neg_test_ids]\n",
        "\n",
        "training_norm=[(FreqDist(pre_processing(wordlist)),label) for (wordlist,label) in training]\n",
        "testing_norm=[(FreqDist(pre_processing(wordlist)),label) for (wordlist,label) in testing]"
      ],
      "execution_count": 7,
      "outputs": []
    },
    {
      "cell_type": "code",
      "metadata": {
        "id": "GPDIe6BxnuMP"
      },
      "source": [
        "# A list of frequency distribution with positive and negative reviews pre-processed \n",
        "def pre_processed_training(pos=pos_train_ids, neg=neg_train_ids):\n",
        "  pos_review = [pre_processing(movie_reviews.words(word)) for word  in pos]\n",
        "  neg_review = [pre_processing(movie_reviews.words(word)) for word  in neg]\n",
        "  return pos_review, neg_review"
      ],
      "execution_count": 8,
      "outputs": []
    },
    {
      "cell_type": "code",
      "metadata": {
        "id": "5GwB5XVlvXlC"
      },
      "source": [
        "# A list of frequency distribution of all words for positive and negative reviews\n",
        "def freq_dist_words(pos, neg):\n",
        "  pos_allFreqs = FreqDist()\n",
        "  neg_allFreqs = FreqDist()\n",
        "\n",
        "  for i in range(len(pos)):\n",
        "    pos_allFreqs += FreqDist(pos[i])\n",
        "    neg_allFreqs += FreqDist(neg[i])\n",
        "\n",
        "  return pos_allFreqs, neg_allFreqs"
      ],
      "execution_count": 9,
      "outputs": []
    },
    {
      "cell_type": "code",
      "metadata": {
        "id": "_a85ddfRvm1_"
      },
      "source": [
        "# All words in the reviews put in a single list\n",
        "def list_words(pos, neg): \n",
        "  pos_allWords = [word for word, freq in pos.items()]\n",
        "  neg_allWords = [word for word, freq in neg.items()]\n",
        "  return pos_allWords, neg_allWords"
      ],
      "execution_count": 10,
      "outputs": []
    },
    {
      "cell_type": "code",
      "metadata": {
        "id": "sFHyjyfnvpOs"
      },
      "source": [
        "# A function that returns top k words that are unique to a sentiment \n",
        "def uniques(uniques, test, k):\n",
        "  # Finding most common k for sentiment where we are searching for unique words from\n",
        "  unique_freq = [word for word, _ in FreqDist(uniques).most_common(k)]\n",
        "  # Finding most common k from the sentiment we are testing against\n",
        "  test_freq = [word for word, _ in FreqDist(test).most_common(k)]\n",
        "  # Creating a list of unique words \n",
        "  unique_list = [word for word in unique_freq if word not in test_freq]\n",
        "  return unique_list"
      ],
      "execution_count": 11,
      "outputs": []
    },
    {
      "cell_type": "code",
      "metadata": {
        "id": "D_FLcYJ2vrqH"
      },
      "source": [
        "# A function that returns top k words that appear more frequently in one sentiment over another \n",
        "def word_ratio(pos, neg, ratio, k=2000):\n",
        "  # Finding most common k frequenct distribution for each sentiment \n",
        "  pos = [i for i in pos.most_common(k)]\n",
        "  neg = [i for i in neg.most_common(k)]\n",
        "\n",
        "  # A list to hold words more common in one sentiment over another \n",
        "  P_words = []\n",
        "  N_words = []\n",
        "\n",
        "  # Looping through most common k in of positive and negative words \n",
        "  for P_word, P_freq in pos:\n",
        "    for N_word, N_freq in neg:\n",
        "      # checking if a word is more likely to be in a sentiment over another based on ratio set \n",
        "      if P_word == N_word and N_freq * ratio < P_freq:\n",
        "        # Adding word to list if it appear more frequently \n",
        "        P_words.append(P_word)\n",
        "      if P_word == N_word and P_freq * ratio < N_freq:\n",
        "        N_words.append(N_word)\n",
        "  \n",
        "  return P_words, N_words"
      ],
      "execution_count": 12,
      "outputs": []
    },
    {
      "cell_type": "code",
      "metadata": {
        "id": "Ane43GNevukz"
      },
      "source": [
        "# Scores word based on occurance in the reviews \n",
        "def single_freq(word_list, corpus):\n",
        "  myDict = {}\n",
        "  # Creating dictionary for each word with default value of 0 \n",
        "  for word in word_list:\n",
        "    myDict[word] = 0\n",
        "  # Looping thrugh keys in dictionary and words that have been derived (uniques and those with higher ratios)\n",
        "  for key in myDict.keys():\n",
        "    for words in corpus:\n",
        "      if key in words:\n",
        "        # Adding a score of 1 if the word appears atleast once in in each review \n",
        "        myDict[key] += 1\n",
        "\n",
        "  return myDict"
      ],
      "execution_count": 13,
      "outputs": []
    },
    {
      "cell_type": "code",
      "metadata": {
        "id": "V-Miq0okv36h"
      },
      "source": [
        "# Runs our experiment \n",
        "def get_wordList(pos, neg, k1, k2, ratio):\n",
        "  # Finding the training data pre processed\n",
        "  pos_review, neg_review = pre_processed_training(pos, neg)\n",
        "  # Getting all the words from the corpus with their freuency distribution\n",
        "  pos_allFreqs, neg_allFreqs = freq_dist_words(pos_review, neg_review)\n",
        "  # Getting all the words from the frequency distribution in a list \n",
        "  pos_allWords, neg_allWords = list_words(pos_allFreqs, neg_allFreqs)\n",
        "\n",
        "  # Finding words that are unique to a particular sentiment based on the top k most frequency distribution for each sentiment \n",
        "  unique_pos = uniques(pos_allFreqs, neg_allFreqs, k1)\n",
        "  unique_neg = uniques(neg_allFreqs, pos_allFreqs, k1)\n",
        "  print(f\"Positive Uniques: {len(unique_pos)}\\nNegative Uniques{len(unique_neg)}\\n\")\n",
        "\n",
        "  # Finding words with r times higher ratio in one sentiment over another in top most frequent k for each sentiment \n",
        "  p_ratio, n_ratio = word_ratio(pos_allFreqs, neg_allFreqs, ratio, k=k2)\n",
        "  print(f\"Positive with {k2} times higher ratio: {len(p_ratio)}\\nNegative  with {k2} times higher ratio: {len(n_ratio)}\")\n",
        "\n",
        "  # Combining unique words and higher ratios\n",
        "  pos_candidates = unique_pos + p_ratio\n",
        "  neg_candidates = unique_neg + n_ratio\n",
        "\n",
        "  # Scoring words based on the number of reviews it occures in \n",
        "  pos_single = single_freq(pos_candidates, pos_review)\n",
        "  neg_single = single_freq(neg_candidates, neg_review)\n",
        "\n",
        "  # sorting data based on the highest rank\n",
        "  pos_sorted_single = sorted(pos_single.items(), key=lambda x: x[1], reverse=True)\n",
        "  neg_sorted_single = sorted(neg_single.items(), key=lambda x: x[1], reverse=True)\n",
        "\n",
        "  # Creating of a list of words from our ranked data \n",
        "  positive_wordlist = [pos_sorted_single[i][0] for i in range(len(pos_sorted_single))]\n",
        "  negative_wordlist = [neg_sorted_single[i][0] for i in range(len(neg_sorted_single))]\n",
        "  \n",
        "  # Return the list of words created \n",
        "  return positive_wordlist, negative_wordlist"
      ],
      "execution_count": 14,
      "outputs": []
    },
    {
      "cell_type": "markdown",
      "metadata": {
        "id": "GGRrxu1HWKq9"
      },
      "source": [
        "**Question 1A**"
      ]
    },
    {
      "cell_type": "code",
      "metadata": {
        "id": "uqY5LhhYV0wQ",
        "colab": {
          "base_uri": "https://localhost:8080/"
        },
        "outputId": "42362a80-fbb9-4e5c-f508-7ac478ffd3c1"
      },
      "source": [
        "# Running our program - deriving a ranked list of positive and negative words that can be used for the word list classifer \n",
        "unique_K = 1000\n",
        "ratio_k = 3000\n",
        "ratio = 2.5\n",
        "positive_wordList, negative_wordList = get_wordList(pos_review_ids, neg_review_ids, unique_K, ratio_k, ratio)"
      ],
      "execution_count": 15,
      "outputs": [
        {
          "output_type": "stream",
          "name": "stdout",
          "text": [
            "Positive Uniques: 169\n",
            "Negative Uniques169\n",
            "\n",
            "Positive with 3000 times higher ratio: 62\n",
            "Negative  with 3000 times higher ratio: 20\n"
          ]
        }
      ]
    },
    {
      "cell_type": "code",
      "metadata": {
        "id": "9wSY9HwsV1w7",
        "colab": {
          "base_uri": "https://localhost:8080/"
        },
        "outputId": "4313970d-5b0d-4caa-a3c3-19fb176af614"
      },
      "source": [
        "# Will return an output of 10 negative and 10 positive words \n",
        "\n",
        "k = 10 # Number of word in the word list \n",
        "\n",
        "print(f\"===Positive Word List===\\n{positive_wordList[:k]}\\n\")\n",
        "print(f\"===Negative Word List===\\n{negative_wordList[:k]}\")"
      ],
      "execution_count": 16,
      "outputs": [
        {
          "output_type": "stream",
          "name": "stdout",
          "text": [
            "===Positive Word List===\n",
            "['portray', 'war', 'hilari', 'excel', 'color', 'solid', 'perfectli', 'brilliant', 'memor', 'equal']\n",
            "\n",
            "===Negative Word List===\n",
            "['bad', 'bore', 'suppos', 'wast', 'worst', 'stupid', 'ridicul', 'terribl', 'poor', 'aw']\n"
          ]
        }
      ]
    },
    {
      "cell_type": "markdown",
      "metadata": {
        "id": "PkmMXlyUUWGb"
      },
      "source": [
        "**Experimentation and Analysis for Question 1B**"
      ]
    },
    {
      "cell_type": "code",
      "metadata": {
        "id": "10pppYw1LVXe"
      },
      "source": [
        "# Experimentations for different pre processing techniques\n",
        "\n",
        "from nltk.stem import WordNetLemmatizer \n",
        "lemmatizer = WordNetLemmatizer()\n",
        "\n",
        "def pre_processing_test(words, code):\n",
        "  # If 0 normalise number \n",
        "  if code == 0:\n",
        "    return [\"NUM\" if i.isdigit() else i for i in words]\n",
        "  # If 1 remove stop words, numbers and punctuation \n",
        "  elif code == 1:\n",
        "    return [i for i in words if i.isalpha() and i not in stop]\n",
        "  # If 2 apply stemming\n",
        "  elif code == 2:\n",
        "    return [st.stem(token) for token in words]\n",
        "  # Otherwise apply lemmatization\n",
        "  else:\n",
        "    return [lemmatizer.lemmatize(token) for token in words]\n"
      ],
      "execution_count": 17,
      "outputs": []
    },
    {
      "cell_type": "code",
      "metadata": {
        "id": "wYWRe2zeUlo6"
      },
      "source": [
        "# Measuring reduction in average size of words for freq dist of each review \n",
        "\n",
        "def measure_pre_processing(training, code):\n",
        "  # Getting lengths of frquency distribution before applying pre processing \n",
        "  actual_length = [len(FreqDist(data)) for data, _ in training]\n",
        "  # Finding average number of words in the frequency distribution review in training data \n",
        "  actual_length = statistics.mean(actual_length)\n",
        "  # Getting lengths of frquency distribution after applying pre processing \n",
        "  new_length = [len(FreqDist(pre_processing_test(data, code))) for data, _ in training]\n",
        "  # Finding average number of words in the frequency distribution review in training data \n",
        "  new_length = statistics.mean(new_length)\n",
        "  print(f\"length reduced from {actual_length} to {new_length}\\n Reduction Rate: {(1-(new_length/actual_length))}\\n\")\n",
        "\n"
      ],
      "execution_count": 18,
      "outputs": []
    },
    {
      "cell_type": "code",
      "metadata": {
        "colab": {
          "base_uri": "https://localhost:8080/"
        },
        "id": "Z-OKPFyGM-Ce",
        "outputId": "0783495e-4eec-46e2-f67b-575674663ef2"
      },
      "source": [
        "# Experimentations and results for pre processing our data \n",
        "\n",
        "print(\"===Normalisation of digits===\\n\")\n",
        "measure_pre_processing(training, 0)\n",
        "print(\"===Removal of stop words, punctuation and digits===\\n\")\n",
        "measure_pre_processing(training, 1)\n",
        "print(\"===Stemming===\\n\")\n",
        "measure_pre_processing(training, 2)\n",
        "print(\"===Lemmatization===\\n\")\n",
        "measure_pre_processing(training, 3)"
      ],
      "execution_count": 19,
      "outputs": [
        {
          "output_type": "stream",
          "name": "stdout",
          "text": [
            "===Normalisation of digits===\n",
            "\n",
            "length reduced from 346.3235714285714 to 344.86\n",
            " Reduction Rate: 0.004226023145159408\n",
            "\n",
            "===Removal of stop words, punctuation and digits===\n",
            "\n",
            "length reduced from 346.3235714285714 to 264.29\n",
            " Reduction Rate: 0.23686973165062397\n",
            "\n",
            "===Stemming===\n",
            "\n",
            "length reduced from 346.3235714285714 to 330.05071428571426\n",
            " Reduction Rate: 0.046987437429488965\n",
            "\n",
            "===Lemmatization===\n",
            "\n",
            "length reduced from 346.3235714285714 to 337.6585714285714\n",
            " Reduction Rate: 0.025019954501673713\n",
            "\n"
          ]
        }
      ]
    },
    {
      "cell_type": "code",
      "metadata": {
        "colab": {
          "base_uri": "https://localhost:8080/"
        },
        "id": "y8pX5Dmk6Egb",
        "outputId": "94c72a88-9d71-46ef-d6f9-d1ec19d4b830"
      },
      "source": [
        "# Analysis of positive words derived \n",
        "print(positive_wordList[:60])"
      ],
      "execution_count": 20,
      "outputs": [
        {
          "output_type": "stream",
          "name": "stdout",
          "text": [
            "['portray', 'war', 'hilari', 'excel', 'color', 'solid', 'perfectli', 'brilliant', 'memor', 'equal', 'intens', 'fiction', 'complex', 'overal', 'modern', 'captur', 'subtl', 'polit', 'artist', 'delight', 'fascin', 'search', 'realist', 'period', 'today', 'highli', 'truth', 'terrif', 'compar', 'combin', 'key', 'rais', 'atmospher', 'cold', 'struggl', 'award', 'cinematographi', 'issu', 'outsid', 'brought', 'slightli', 'affect', 'normal', 'fit', 'sweet', 'spirit', 'explor', 'tradit', 'remark', 'uniqu', 'manner', 'fashion', 'greatest', 'term', 'initi', 'commun', 'soundtrack', 'moral', 'societi', 'enter']\n"
          ]
        }
      ]
    },
    {
      "cell_type": "code",
      "metadata": {
        "colab": {
          "base_uri": "https://localhost:8080/"
        },
        "id": "cWAqayeg6E26",
        "outputId": "0829ea9a-ec3b-4849-91db-38409e95663a"
      },
      "source": [
        "# Analysis of negative words derived \n",
        "print(negative_wordList[:60])"
      ],
      "execution_count": 21,
      "outputs": [
        {
          "output_type": "stream",
          "name": "stdout",
          "text": [
            "['bad', 'bore', 'suppos', 'wast', 'worst', 'stupid', 'ridicul', 'terribl', 'poor', 'aw', 'mess', 'anyway', 'promis', 'bunch', 'dull', 'decent', 'neither', 'catch', 'b', 'wear', 'ten', 'lame', 'sign', 'horribl', 'dumb', 'femal', 'flat', 'subplot', 'jump', 'silli', 'gag', 'bare', 'whatev', 'drop', 'pleas', 'cheap', 'embarrass', 'stereotyp', 'poorli', 'somewher', 'standard', 'formula', 'fair', 'ex', 'brain', 'laughabl', 'cameo', 'count', 'loud', 'valu', 'ground', 'robin', 'dress', 'intent', 'rent', 'pathet', 'front', 'dollar', 'pair', 'quick']\n"
          ]
        }
      ]
    },
    {
      "cell_type": "markdown",
      "metadata": {
        "id": "kIizNUVunuMP"
      },
      "source": [
        "**Question 1B:**\n"
      ]
    },
    {
      "cell_type": "markdown",
      "metadata": {
        "id": "_HwQQRAwJydN"
      },
      "source": [
        "In the identification of relevant tokens in a word list classifier, a list of the most fruitful words may either be automatically derived or hand-crafted. It is not only hard to derive a comprehensive and unbiased hand-crafted list of words, but can also be hard to scale across various domains. In this respect, an automatic derivation of the word list can address concerns surrounding algorithmic fairness as well as scalability. \n",
        "\n",
        "In order to find the most useful features in the movie review corpus, various pre-processing techniques can be applied to remove unwanted words and clean our data. The most frequent words used in English are typically function words that lack substance in respect to sentiment analysis. As a result, the removal of digits, stop words and punctuation was applied, reducing the average length of frequency distribution of review by approximately 24%. Although lemmatization is more focused on the meaning of a word as opposed to stemming which removes unwanted affixes, experimentations suggest that both reduce the average lengths of reviews by approximately 5%. Thus, stemming was selected as the less expensive option (computationally).\n",
        "\n",
        "Zipf’s Law suggests that 50% of words within a corpus as “hapax legoman” (meaning that they only occur once). In this respect, we aim to focus on deriving a bag of words ranked based on their frequency distribution (for each sentiment). Using the top 1000 ranked frequency distributions of each sentiment we found 169 positive and 169 negative words that are unique to the sentiment. Similarly, the top 3500 ranked frequency distributions for words were used to find words that appear 2.5 times more frequently in one sentiment over another. This presented us with a total 231 positive words and 189 negative words that are unique or or more likely to appear. Thereafter, using a uniform score for occurrence for words in our two categories, each word was ranked based on their occurrence rate in training data. Despite extracting more words from the positive cargory, both categories appear to include a good portion of words describing a particular sentiment suggesting adequate and unbiased consistency of relevant features for our classifier.\n",
        "\n"
      ]
    },
    {
      "cell_type": "markdown",
      "metadata": {
        "id": "TApOQE6vND20"
      },
      "source": [
        "2) \n",
        "a) **Use** the lists generated in Q1 to build a **word list classifier** which will classify reviews as being positive or negative.\n",
        "\n",
        "b) **Explain** what you have done.\n",
        "\n",
        "[12.5\\%]\n"
      ]
    },
    {
      "cell_type": "code",
      "metadata": {
        "id": "BThDMrcmODJy"
      },
      "source": [
        "from nltk.classify.api import ClassifierI\n",
        "import random\n",
        "\n",
        "class WordListClassifier(ClassifierI): \n",
        "\n",
        "    def __init__(self, _pos, _neg): \n",
        "        self._pos = _pos\n",
        "        self._neg = _neg\n",
        "\n",
        "    def classify(self, reviews): \n",
        "        #Initialize score as 0 \n",
        "        score = 0\n",
        "\n",
        "        # Looping through the testing data \n",
        "        for words, freq in reviews.items():\n",
        "            # If word is in our positive crafted word list \n",
        "            if words in self._pos:\n",
        "                # Add a score of 1 \n",
        "                score += freq\n",
        "            # If word is in our positive crafted word list\n",
        "            if words in self._neg:\n",
        "                # Subrtact 1 from 1 from score\n",
        "                score -= freq\n",
        "        # If score is smaller than 0 classification is negative \n",
        "        if score < 0:\n",
        "            return (score, \"neg\")\n",
        "        # If score is greater than 0 classification is positive  \n",
        "        elif score > 0:\n",
        "            return (score, \"pos\") \n",
        "        # Otherwise classify randomly\n",
        "        else:\n",
        "            return (score, random.sample([\"pos\", \"neg\"], 1)[0])\n",
        "        \n",
        "    def labels(self): \n",
        "        return (\"pos\", \"neg\")"
      ],
      "execution_count": 22,
      "outputs": []
    },
    {
      "cell_type": "code",
      "metadata": {
        "id": "9dsz-DV22Fe-"
      },
      "source": [
        "class WordListClassifierOccurence(ClassifierI): \n",
        "\n",
        "    def __init__(self, _pos, _neg): \n",
        "        self._pos = _pos\n",
        "        self._neg = _neg\n",
        "\n",
        "    def classify(self, reviews): \n",
        "        #Initialize score as 0 \n",
        "        score = 0\n",
        "\n",
        "        used_words = []\n",
        "\n",
        "        # Looping through the testing data \n",
        "        for words, freq in reviews.items():\n",
        "            # If word is in our positive crafted word list \n",
        "            if words in self._pos: #and words not in used_words:\n",
        "                # Add a score of 1\n",
        "                #used_words.append(words) \n",
        "                score += 1\n",
        "            # If word is in our positive crafted word list\n",
        "            if words in self._neg: #and words not in used_words:\n",
        "                # Subrtact 1 from 1 from score\n",
        "                #used_words.append(words) \n",
        "                score -= 1\n",
        "\n",
        "        # If score is smaller than 0 classification is negative \n",
        "        if score < 0:\n",
        "            return (score, \"neg\")\n",
        "        # If score is greater than 0 classification is positive  \n",
        "        elif score > 0:\n",
        "            return (score, \"pos\") \n",
        "        # Otherwise classify randomly\n",
        "        else:\n",
        "            return (score, random.sample([\"pos\", \"neg\"], 1)[0])\n",
        "        \n",
        "    def labels(self): \n",
        "        return (\"pos\", \"neg\")"
      ],
      "execution_count": 23,
      "outputs": []
    },
    {
      "cell_type": "markdown",
      "metadata": {
        "id": "h4pKaxJvZpGB"
      },
      "source": [
        "**Question 2A:**"
      ]
    },
    {
      "cell_type": "code",
      "metadata": {
        "colab": {
          "base_uri": "https://localhost:8080/"
        },
        "id": "UB9ivUH57EaG",
        "outputId": "925edd7d-adcf-478b-f610-9169e3a6e7ec"
      },
      "source": [
        "# Running our program - deriving a ranked list of positive and negative words that can be used for the word list classifer \n",
        "unique_K = 1000 # top k uniue words to filter\n",
        "ratio_k = 3000 # top k more frequent words to filter\n",
        "ratio = 2.5 # Ratio of frquency to filter \n",
        "\n",
        "# Create word list\n",
        "positive_wordList, negative_wordList = get_wordList(pos_review_ids, neg_review_ids, unique_K, ratio_k, ratio)"
      ],
      "execution_count": 24,
      "outputs": [
        {
          "output_type": "stream",
          "name": "stdout",
          "text": [
            "Positive Uniques: 169\n",
            "Negative Uniques169\n",
            "\n",
            "Positive with 3000 times higher ratio: 62\n",
            "Negative  with 3000 times higher ratio: 20\n"
          ]
        }
      ]
    },
    {
      "cell_type": "code",
      "metadata": {
        "colab": {
          "base_uri": "https://localhost:8080/"
        },
        "id": "OcdAICcC6eUP",
        "outputId": "e45ca2fa-fb00-4a20-a9ca-97bfd6fd4df6"
      },
      "source": [
        "# Final Classifier Selected - Frequency based scoring \n",
        "freq_classifier = WordListClassifier(positive_wordList[:10], negative_wordList[:10])\n",
        "freq_testing, freq_labels = zip(*testing_norm)\n",
        "\n",
        "freq_predictions = freq_classifier.classify_many(freq_testing)\n",
        "\n",
        "freq_predictions[:20]"
      ],
      "execution_count": 25,
      "outputs": [
        {
          "output_type": "execute_result",
          "data": {
            "text/plain": [
              "[(1, 'pos'),\n",
              " (-1, 'neg'),\n",
              " (1, 'pos'),\n",
              " (0, 'pos'),\n",
              " (8, 'pos'),\n",
              " (-1, 'neg'),\n",
              " (-2, 'neg'),\n",
              " (2, 'pos'),\n",
              " (0, 'neg'),\n",
              " (1, 'pos'),\n",
              " (1, 'pos'),\n",
              " (1, 'pos'),\n",
              " (-1, 'neg'),\n",
              " (-1, 'neg'),\n",
              " (0, 'pos'),\n",
              " (2, 'pos'),\n",
              " (-1, 'neg'),\n",
              " (-1, 'neg'),\n",
              " (0, 'neg'),\n",
              " (0, 'neg')]"
            ]
          },
          "metadata": {},
          "execution_count": 25
        }
      ]
    },
    {
      "cell_type": "markdown",
      "metadata": {
        "id": "4yekyZvNj8zj"
      },
      "source": [
        "**Experiments for question 2B:**\n",
        "\n",
        "\n"
      ]
    },
    {
      "cell_type": "code",
      "metadata": {
        "id": "D2sw1pxthRWg"
      },
      "source": [
        "# Function to evaluate neutral classifications\n",
        "\n",
        "def evaluate_cls(predictions):\n",
        "  # Counting total number of neutral scores\n",
        "  print(\"===Number of Neutal Scores===\\n\")\n",
        "  count_neutral = [True for score, _ in predictions if score == 0].count(True)\n",
        "  print(f\"A total of {count_neutral} got neutral score and classified randomly\\n\\n\")\n",
        "  # Calculating average of absolute values of scores\n",
        "  print(\"===Average Scores (absolute value)===\\n\")\n",
        "  average_scores = statistics.mean([abs(score) for score, label in predictions])\n",
        "  print(f\"Average score: {average_scores}\")\n",
        "\n"
      ],
      "execution_count": 26,
      "outputs": []
    },
    {
      "cell_type": "code",
      "metadata": {
        "colab": {
          "base_uri": "https://localhost:8080/"
        },
        "id": "7iIVc0PO4rSP",
        "outputId": "fe61a9f4-42e5-405f-fc88-b92b474a8771"
      },
      "source": [
        "# Classifier based on uniform score for occurance \n",
        "\n",
        "# Runnning classifier\n",
        "occurence_classifier = WordListClassifierOccurence(positive_wordList[:10], negative_wordList[:10])\n",
        "occurence_testing, occurence_labels = zip(*testing_norm)\n",
        "occurence_predictions = occurence_classifier.classify_many(occurence_testing)\n",
        "\n",
        "# Evaluating classifier  \n",
        "evaluate_cls(occurence_predictions)"
      ],
      "execution_count": 27,
      "outputs": [
        {
          "output_type": "stream",
          "name": "stdout",
          "text": [
            "===Number of Neutal Scores===\n",
            "\n",
            "A total of 145 got neutral score and classified randomly\n",
            "\n",
            "\n",
            "===Average Scores (absolute value)===\n",
            "\n",
            "Average score: 1.4516666666666667\n"
          ]
        }
      ]
    },
    {
      "cell_type": "code",
      "metadata": {
        "colab": {
          "base_uri": "https://localhost:8080/"
        },
        "id": "MSeo6tcA4sB7",
        "outputId": "04639451-2c34-4b96-f39a-4648e28c5414"
      },
      "source": [
        "# Classifier based on frequency score \n",
        "\n",
        "# Runnning classifier\n",
        "freq_classifier = WordListClassifier(positive_wordList[:10], negative_wordList[:10])\n",
        "freq_testing, freq_labels = zip(*testing_norm)\n",
        "freq_predictions = freq_classifier.classify_many(freq_testing)\n",
        "\n",
        "# Evaluating classifier  \n",
        "evaluate_cls(freq_predictions)"
      ],
      "execution_count": 28,
      "outputs": [
        {
          "output_type": "stream",
          "name": "stdout",
          "text": [
            "===Number of Neutal Scores===\n",
            "\n",
            "A total of 123 got neutral score and classified randomly\n",
            "\n",
            "\n",
            "===Average Scores (absolute value)===\n",
            "\n",
            "Average score: 2.1683333333333334\n"
          ]
        }
      ]
    },
    {
      "cell_type": "markdown",
      "metadata": {
        "id": "F5OLrrvVZwTm"
      },
      "source": [
        "**Question 2B:**"
      ]
    },
    {
      "cell_type": "markdown",
      "metadata": {
        "id": "ovf-3yYmnuMR"
      },
      "source": [
        "A word list classifier is an instruction based text classification technique dependent on the identification of the most relevant tokens within a text. In contrast to the general architecture of classifiers, a word list classifier employs a list of the most relevant words to score prior to classification. In order to build a more scalable program that can both address changing dynamics of language and be used in different domains, we have employed an automated approach for filtering out the most useful word list for each category. Using the top k words with highest frequency distribution, we have filtered out the words that are either unique or are 2.5  times more likely to appear in a given category. In order to increase the chances of each review to be scored at least once, the word lists containing filtered data are rearranged based on the uniform score for occurrence in the training data. \n",
        " \n",
        "Scores are typically accounted for by frequency, uniform occurrence or weighed by importance. While classification takes place randomly with a neural score of 0, scores above 0 are classified as positive and scores below 0 are classified as negative. Greater variation in scores reduces the chances of ending up with neutral scores of 0 effectively minimizing the role of serendipity in the classifier. In this respect,  we aim to select the classifier that produces the largest average from classification |scores|. Our experiment suggests that frequency scoring produces the greater variation in scores for the mean of |scores| at 2.17 compared to 1.45 obtained from uniform occurrence scoring. However, both performed similarly on the number of reviews classified as neutral (frequency score: 123 neural scores, uniform score for occurrence: 145 neural scores). Nevertheless, a frequency based scoring approach appears to yield more concrete results with greater variation. Therefore, we have decided to use it as our classifier of choice for this classification problem. \n",
        " \n",
        "\n"
      ]
    },
    {
      "cell_type": "markdown",
      "metadata": {
        "id": "h9QM8xKlnuMS"
      },
      "source": [
        "3)\n",
        "a) **Calculate** the accuracy, precision, recall and F1 score of your classifier.\n",
        "\n",
        "b) Is it reasonable to evaluate the classifier in terms of its accuracy?  **Explain** your answer and give a counter-example (a scenario where it would / would not be reasonable to evaluate the classifier in terms of its accuracy).\n",
        "\n",
        "[20\\%]"
      ]
    },
    {
      "cell_type": "code",
      "metadata": {
        "id": "4kQfzvHgnuMS"
      },
      "source": [
        "def cm(val, prediction):\n",
        "  if val == True and prediction == \"pos\":\n",
        "    return \"TP\"\n",
        "  elif val == True and prediction == \"neg\": \n",
        "    return \"TN\"\n",
        "  elif val == False and prediction == \"pos\":\n",
        "    return \"FP\"\n",
        "  else:\n",
        "    return \"FN\""
      ],
      "execution_count": 29,
      "outputs": []
    },
    {
      "cell_type": "code",
      "metadata": {
        "id": "9dXIGUjHnuMS"
      },
      "source": [
        "def conf_matrix(label, prediction):\n",
        "  scores = [label[i]==prediction[i][1] for i in range(len(prediction))]\n",
        "  confusion_matrix = [cm(scores[i], prediction[i][1]) for i in range(len(prediction))]\n",
        "  TP, TN, FP, FN = confusion_matrix.count(\"TP\"), confusion_matrix.count(\"TN\"), confusion_matrix.count(\"FP\"), confusion_matrix.count(\"FN\") \n",
        "  #print(TP, TN, FP, FN)\n",
        "  accuracy = scores.count(True)/len(scores)\n",
        "  precision = TP/(TP+FP)\n",
        "  recall = TP/(TP+FN)\n",
        "  F1 = (2*precision*recall)/(precision+recall)\n",
        "  return accuracy, precision, recall, F1"
      ],
      "execution_count": 30,
      "outputs": []
    },
    {
      "cell_type": "code",
      "metadata": {
        "colab": {
          "base_uri": "https://localhost:8080/"
        },
        "id": "FrNl6eGoBmiu",
        "outputId": "268ce0e7-56d9-45da-facd-a9e07a7ab80f"
      },
      "source": [
        "accuracy, precision, recall, F1 = conf_matrix(freq_labels, freq_predictions)\n",
        "print(accuracy, precision, recall, F1)"
      ],
      "execution_count": 32,
      "outputs": [
        {
          "output_type": "stream",
          "name": "stdout",
          "text": [
            "0.7333333333333333 0.7892561983471075 0.6366666666666667 0.7047970479704796\n"
          ]
        }
      ]
    },
    {
      "cell_type": "markdown",
      "metadata": {
        "id": "WXTft9YknuMT"
      },
      "source": [
        "Among methods that can be employed to measure the performance of a classifier include accuracy, precision, recall as well as f1 score. Although accuracy provides the proportion of correct classifications from the overall classifications , it may be misleading to use when dealing with an unbalanced data set. For instance, a dataset contains 100 negatives  and 9900 positives. Even if all the negatives were misclassified, we would get an accuracy of 99% if all the positives were to be classified correctly. In contrast, recall provides the proportion of correct positive classification from cases that are actually  positive and precision provides the proportion of positive classification from cases that are predicted as positive. Recall and precision can not only exhibit biases in respect to the imbalances within the data set, but can also be indicative of bias in a model. For example, the movie reviews dataset may have low recall or precision using the SVM classifier but high precision or recall using Naive Bayes classifier suggesting that Naive Bayes classifier is less biased (for a given category). Although high recall and precision is preferable, F1 score provides the combined metrics of recall and precision, providing a general overview of the model.\n",
        "\n",
        "Although accuracy may be misleading when it comes to comparing the performance of different models on a dataset, it may be relevant in certain circumstances. For example, scores calculated may exhibit similar results for accuracy, recall, precision and F1 score. This may be explained by the fact that the positive and negative data were both insightful and evenly split. Additionally, it may also suggest that the classifier did the job in an unbiased manner. Therefore, accuracy may be considered relevant when uncertainties are minimal in the data set. On the other hand, precision, recall, and F1 score are more relevant metrics when dealing with uncertainties.\n",
        "\n"
      ]
    },
    {
      "cell_type": "markdown",
      "metadata": {
        "id": "LIS9UpmJNEAp"
      },
      "source": [
        "4) \n",
        "a)  **Construct** a Naive Bayes classifier (e.g., from NLTK).\n",
        "\n",
        "b)  **Compare** the performance of your word list classifier with the Naive Bayes classifier.  **Discuss** your results. \n",
        "\n",
        "[12.5\\%]"
      ]
    },
    {
      "cell_type": "code",
      "metadata": {
        "id": "wz8P1LK3nuMT"
      },
      "source": [
        "def split_bayes(PreProcess,pos=pos_review_ids, neg=neg_review_ids):\n",
        "  # Creating converting reveiws to a list of strings \n",
        "  X = [\" \".join(movie_reviews.words(text)) for text in pos_review_ids] + [\" \".join(movie_reviews.words(text)) for text in neg_review_ids]\n",
        "  # Creating a list with the label as strings \n",
        "  y = [\"pos\"]*1000 + [\"neg\"]*1000\n",
        "  # Encoding the label using LabelEncoder() from sk learn library - returns NumPy array with the label encoded as 0 or 1  \n",
        "  le = preprocessing.LabelEncoder()\n",
        "  y = le.fit_transform(y)\n",
        "  # Return split data if pre processing is not required \n",
        "  if PreProcess == False:\n",
        "    return train_test_split(X, y, test_size=0.3, random_state=42)\n",
        "  # Pre Processing \n",
        "  X = PreProcess.fit_transform(X)\n",
        "  X = X.toarray()\n",
        "  # Return split data \n",
        "  return train_test_split(X, y, test_size=0.3, random_state=42)"
      ],
      "execution_count": 33,
      "outputs": []
    },
    {
      "cell_type": "code",
      "metadata": {
        "id": "oa5SW8QrnuMU"
      },
      "source": [
        "def model(model_, PreProcess):\n",
        "  # Splitting the data using the function in the cell above \n",
        "  X_train, X_test, y_train, y_test = split_bayes(PreProcess)\n",
        "  # Training our data \n",
        "  model = model_.fit(X_train, y_train)\n",
        "  # Making predictions on the testing data \n",
        "  predictions = model.predict(X_test)\n",
        "  score = classification_report(y_test, predictions)\n",
        "  print(score)\n",
        "  return classification_report(y_test, predictions, output_dict=True)"
      ],
      "execution_count": 34,
      "outputs": []
    },
    {
      "cell_type": "code",
      "metadata": {
        "id": "niGuk3xrQ27F"
      },
      "source": [
        "def run_results(model_, PreProcess):\n",
        "  results = model(model_, PreProcess)\n",
        "  results = results[\"macro avg\"]\n",
        "  results = [results[\"precision\"], results[\"recall\"], results[\"f1-score\"]]\n",
        "  return results"
      ],
      "execution_count": 35,
      "outputs": []
    },
    {
      "cell_type": "markdown",
      "metadata": {
        "id": "frknx1wxq9x_"
      },
      "source": [
        "**Question 4A & Experimmentations**"
      ]
    },
    {
      "cell_type": "code",
      "metadata": {
        "id": "OfKIfbYuRCMW"
      },
      "source": [
        "# Parameters for for pre procrssing \n",
        "from sklearn.feature_extraction.text import CountVectorizer\n",
        "from sklearn.feature_extraction.text import TfidfVectorizer\n",
        "from sklearn.pipeline import Pipeline\n",
        "# TfidfVectorizer() from sk-learn\n",
        "Tfid = TfidfVectorizer()\n",
        "# CountVectorizer() from sk-learn\n",
        "cv = CountVectorizer()\n",
        "\n",
        "# Parameters for models\n",
        "from sklearn.naive_bayes import MultinomialNB \n",
        "from sklearn.naive_bayes import GaussianNB \n",
        "from sklearn.feature_extraction.text import TfidfTransformer\n",
        "# Gaussian Naive Bayes  \n",
        "gnb = GaussianNB()\n",
        "# Multinormial Naive Bayes \n",
        "mnb = MultinomialNB()\n",
        "# Multinormial Naive Bayes using a pipleine to implent both pre processing techniques \n",
        "mnb_pipeline = Pipeline([('vect', CountVectorizer()),('tfidf', TfidfTransformer()),('clf', MultinomialNB())])"
      ],
      "execution_count": 36,
      "outputs": []
    },
    {
      "cell_type": "code",
      "metadata": {
        "colab": {
          "base_uri": "https://localhost:8080/"
        },
        "id": "Oh0LecsmRiNE",
        "outputId": "a376b522-d267-4079-d7e6-91938245ca4e"
      },
      "source": [
        "# Pre Processing - TfidfVectorizer \n",
        "print(\"=============Pre Processing with TfidfVectorizer=============\\n\")\n",
        "print(\"Gaussian Navive Bayes\\n\")\n",
        "Tfid_GNB = run_results(gnb, Tfid)\n",
        "print(\"Multinomial Navive Bayes\\n\\n\")\n",
        "Tfid_MNB = run_results(mnb, Tfid)\n",
        "\n",
        "# Pre Processing - Count Vectorizer  \n",
        "print(\"=============Pre Processing with CountVectorizer=============\\n\")\n",
        "print(\"Gaussian Navive Bayes\\n\")\n",
        "cv_GNB = run_results(gnb, cv)\n",
        "print(\"Multinomial Navive Bayes\\n\\n\")\n",
        "cv_MNB = run_results(mnb, cv)\n",
        "\n",
        "# Pre Processing - Pipeline with both techniques on Multinomial Navive\n",
        "print(\"=============Pre Processing with both CountVectorizer and TfidfVectorizer=============\\n\")\n",
        "pl_MNB = run_results(mnb_pipeline, False)"
      ],
      "execution_count": 37,
      "outputs": [
        {
          "output_type": "stream",
          "name": "stdout",
          "text": [
            "=============Pre Processing with TfidfVectorizer=============\n",
            "\n",
            "Gaussian Navive Bayes\n",
            "\n",
            "              precision    recall  f1-score   support\n",
            "\n",
            "           0       0.62      0.55      0.59       298\n",
            "           1       0.60      0.67      0.63       302\n",
            "\n",
            "    accuracy                           0.61       600\n",
            "   macro avg       0.61      0.61      0.61       600\n",
            "weighted avg       0.61      0.61      0.61       600\n",
            "\n",
            "Multinomial Navive Bayes\n",
            "\n",
            "\n",
            "              precision    recall  f1-score   support\n",
            "\n",
            "           0       0.73      0.87      0.80       298\n",
            "           1       0.84      0.69      0.76       302\n",
            "\n",
            "    accuracy                           0.78       600\n",
            "   macro avg       0.79      0.78      0.78       600\n",
            "weighted avg       0.79      0.78      0.78       600\n",
            "\n",
            "=============Pre Processing with CountVectorizer=============\n",
            "\n",
            "Gaussian Navive Bayes\n",
            "\n",
            "              precision    recall  f1-score   support\n",
            "\n",
            "           0       0.64      0.58      0.61       298\n",
            "           1       0.62      0.67      0.64       302\n",
            "\n",
            "    accuracy                           0.63       600\n",
            "   macro avg       0.63      0.63      0.63       600\n",
            "weighted avg       0.63      0.63      0.63       600\n",
            "\n",
            "Multinomial Navive Bayes\n",
            "\n",
            "\n",
            "              precision    recall  f1-score   support\n",
            "\n",
            "           0       0.80      0.83      0.81       298\n",
            "           1       0.82      0.79      0.81       302\n",
            "\n",
            "    accuracy                           0.81       600\n",
            "   macro avg       0.81      0.81      0.81       600\n",
            "weighted avg       0.81      0.81      0.81       600\n",
            "\n",
            "=============Pre Processing with both CountVectorizer and TfidfVectorizer=============\n",
            "\n",
            "              precision    recall  f1-score   support\n",
            "\n",
            "           0       0.73      0.87      0.80       298\n",
            "           1       0.84      0.68      0.75       302\n",
            "\n",
            "    accuracy                           0.78       600\n",
            "   macro avg       0.79      0.78      0.77       600\n",
            "weighted avg       0.79      0.78      0.77       600\n",
            "\n"
          ]
        }
      ]
    },
    {
      "cell_type": "code",
      "metadata": {
        "colab": {
          "base_uri": "https://localhost:8080/",
          "height": 408
        },
        "id": "nnXYybi0RvA-",
        "outputId": "751e4e44-e578-40c4-f578-c4002c2d31de"
      },
      "source": [
        "import pandas as pd\n",
        "\n",
        "index_NB = [\"Precision\", \"Recall\", \"F1\"]\n",
        "\n",
        "df = pd.DataFrame({\"Gaussian (TfidfVectorizer)\": Tfid_GNB, \"Multinomial (TfidfVectorizer)\": Tfid_MNB, \n",
        "                   \"Gaussian (CountVectorizer)\": cv_GNB, \"Multinomial (CountVectorizer)\": cv_MNB,\n",
        "                   \"Multinomial (TfidfVectorizer & CountVectorizer\": pl_MNB}, index = index_NB)\n",
        "\n",
        "ax = df.plot.bar(rot=0, figsize=(12,6))\n",
        "\n",
        "print(\"====Precision, Recall and F1 Score using various models and pre-processing techniques====\")\n",
        "ax"
      ],
      "execution_count": 38,
      "outputs": [
        {
          "output_type": "stream",
          "name": "stdout",
          "text": [
            "====Precision, Recall and F1 Score using various models and pre-processing techniques====\n"
          ]
        },
        {
          "output_type": "execute_result",
          "data": {
            "text/plain": [
              "<matplotlib.axes._subplots.AxesSubplot at 0x7f5a3d922cd0>"
            ]
          },
          "metadata": {},
          "execution_count": 38
        },
        {
          "output_type": "display_data",
          "data": {
            "image/png": "[encoded data removed]",
            "text/plain": [
              "<Figure size 864x432 with 1 Axes>"
            ]
          },
          "metadata": {
            "needs_background": "light"
          }
        }
      ]
    },
    {
      "cell_type": "markdown",
      "metadata": {
        "id": "jOnAzRzBqyEJ"
      },
      "source": [
        "**Question 4B:**"
      ]
    },
    {
      "cell_type": "markdown",
      "metadata": {
        "id": "bN1slxSwnuMU"
      },
      "source": [
        "Naive Bayes classifier (NB) is a numerical supervised classification approach based on the Bayes Theorem. It is widely considered to be a computationally inexpensive, yet decisive algorithm that yields accurate results particularly in text classification. Despite being suitable on large data sets given its fast computation performance, the NB classifier is also known to work well on small training samples. NB classifier is established by the assumption that the features within a class are independent of one another. Firstly, the NB classifier computes the prior probability of a given class, before finding the probabilities of each individual feature and calculating their joint conditional probabilities through multiplication. Thereafter, these values are plugged into the bayes equation to find the posterior probabilities in order to decide which classes have the highest probabilities. Finally, the higher probability class is  assumed as the given input.\n",
        "\n",
        "\n",
        " Among various approaches to NB classifiers include, gaussian NB (GNB) based on normal distribution as well as Multinomial NB (MNB) based for frequency distribution. Overall MNB yielded the best results using a count vectorizer with F1 score of 81% outperforming the word list classifier which got an F1 score of 70.5%. In contrast to the word list classifier  which had a high precision of 78.9% and lower recall 63.6%%, MNB scored more consistently, scoring 81% for both recall and precision. Although GNB got lower F1 scores of 61%, it performed constantly for both precision and recall. This suggests that using a word list classifier with 10 words produces bias results where recall is significantly lower than precision indicating disparity in the quality of the 10 best words produced for each category.\n",
        "\n"
      ]
    },
    {
      "cell_type": "markdown",
      "metadata": {
        "id": "LGDXaVDqOSfY"
      },
      "source": [
        "5) \n",
        "a) Design and **carry out an experiment** into the impact of the **length of the wordlists** on the wordlist classifier.  Make sure you **describe** design decisions in your experiment, include a **graph** of your results and **discuss** your conclusions. \n",
        "\n",
        "b) Would you **recommend** a wordlist classifier or a Naive Bayes classifier for future work in this area?  **Justify** your answer.\n",
        "\n",
        "[25\\%]\n"
      ]
    },
    {
      "cell_type": "markdown",
      "metadata": {
        "id": "3MgFHhyYrHyy"
      },
      "source": [
        "**Question 5A & Experimentations**"
      ]
    },
    {
      "cell_type": "code",
      "metadata": {
        "id": "wtVObytAnuMU",
        "colab": {
          "base_uri": "https://localhost:8080/"
        },
        "outputId": "4d1f0def-1087-4820-9b08-3de734ac5588"
      },
      "source": [
        "# Running our program - deriving a ranked list of positive and negative words that can be used for the word list classifer \n",
        "unique_K = 1000\n",
        "ratio_k = 3000\n",
        "ratio = 2.5\n",
        "positive_wordList, negative_wordList = get_wordList(pos_review_ids, neg_review_ids, unique_K, ratio_k, ratio)"
      ],
      "execution_count": 39,
      "outputs": [
        {
          "output_type": "stream",
          "name": "stdout",
          "text": [
            "Positive Uniques: 169\n",
            "Negative Uniques169\n",
            "\n",
            "Positive with 3000 times higher ratio: 62\n",
            "Negative  with 3000 times higher ratio: 20\n"
          ]
        }
      ]
    },
    {
      "cell_type": "code",
      "metadata": {
        "id": "xbNWWYCGnuMV"
      },
      "source": [
        "# Collecting results for different lengths of word lists \n",
        "word_list_len = [len(positive_wordList), len(negative_wordList)]\n",
        "\n",
        "word_count = [i for i in range(0, 180, 5)]\n",
        "\n",
        "\n",
        "accuracies = []\n",
        "precisions = []\n",
        "recalls = []\n",
        "F1s = []\n",
        "\n",
        "testing, labels = zip(*testing_norm)\n",
        "\n",
        "# Collecting metrics with different size for word lists\n",
        "for i in word_count:\n",
        "  wl_classifier = WordListClassifier(positive_wordList[:i], negative_wordList[:i])\n",
        "  predictions = wl_classifier.classify_many(testing)\n",
        "  accuracy, precision, recall, F1 = conf_matrix(labels, predictions)\n",
        "  accuracies.append(accuracy)\n",
        "  precisions.append(precision)\n",
        "  recalls.append(recall)\n",
        "  F1s.append(F1)"
      ],
      "execution_count": 40,
      "outputs": []
    },
    {
      "cell_type": "code",
      "metadata": {
        "id": "KwGSeSUFnuMV"
      },
      "source": [
        "# A function to plot performance for each score \n",
        "def plot_score_type(score_type, score_name):\n",
        "  title = f\"{score_name} against size of word list\"\n",
        "  plt.plot(word_count,score_type, label = title)\n",
        "  plt.title(title)\n",
        "  plt.xlabel(\"Size of word list\")\n",
        "  plt.ylabel(score_name)\n",
        "\n",
        "  index = [idx for idx, score in enumerate(score_type) if score == max(score_type)][0]\n",
        "  print(f\"Peak {score_name.lower()} of {max(score_type)} is reached with word count of {word_count[index]}\")"
      ],
      "execution_count": 41,
      "outputs": []
    },
    {
      "cell_type": "code",
      "metadata": {
        "id": "8DUIgR-XpUHf",
        "colab": {
          "base_uri": "https://localhost:8080/",
          "height": 312
        },
        "outputId": "160c0efb-1a08-431a-8a72-bd3f58532f71"
      },
      "source": [
        "plot_score_type(accuracies, \"Accuracy\")"
      ],
      "execution_count": 42,
      "outputs": [
        {
          "output_type": "stream",
          "name": "stdout",
          "text": [
            "Peak accuracy of 0.84 is reached with word count of 95\n"
          ]
        },
        {
          "output_type": "display_data",
          "data": {
            "image/png": "[encoded data removed]",
            "text/plain": [
              "<Figure size 432x288 with 1 Axes>"
            ]
          },
          "metadata": {
            "needs_background": "light"
          }
        }
      ]
    },
    {
      "cell_type": "code",
      "metadata": {
        "colab": {
          "base_uri": "https://localhost:8080/",
          "height": 312
        },
        "id": "yYl0sNwwyNkY",
        "outputId": "5ec56efe-f08d-4f61-dd1a-27fbdca8f2f0"
      },
      "source": [
        "plot_score_type(recalls, \"Recall\")"
      ],
      "execution_count": 43,
      "outputs": [
        {
          "output_type": "stream",
          "name": "stdout",
          "text": [
            "Peak recall of 0.8033333333333333 is reached with word count of 120\n"
          ]
        },
        {
          "output_type": "display_data",
          "data": {
            "image/png": "[encoded data removed]",
            "text/plain": [
              "<Figure size 432x288 with 1 Axes>"
            ]
          },
          "metadata": {
            "needs_background": "light"
          }
        }
      ]
    },
    {
      "cell_type": "code",
      "metadata": {
        "colab": {
          "base_uri": "https://localhost:8080/",
          "height": 312
        },
        "id": "iNTk7Kw_yqRr",
        "outputId": "5d101a55-f32a-4944-ca31-573d5dee6373"
      },
      "source": [
        "plot_score_type(precisions, \"Precision\")"
      ],
      "execution_count": 44,
      "outputs": [
        {
          "output_type": "stream",
          "name": "stdout",
          "text": [
            "Peak precision of 0.875 is reached with word count of 95\n"
          ]
        },
        {
          "output_type": "display_data",
          "data": {
            "image/png": "[encoded data removed]",
            "text/plain": [
              "<Figure size 432x288 with 1 Axes>"
            ]
          },
          "metadata": {
            "needs_background": "light"
          }
        }
      ]
    },
    {
      "cell_type": "code",
      "metadata": {
        "colab": {
          "base_uri": "https://localhost:8080/",
          "height": 312
        },
        "id": "-_zwlViIyxKw",
        "outputId": "ceed5f5e-4438-4051-f389-988a0e328c9f"
      },
      "source": [
        "plot_score_type(F1s, \"F1 Score\")"
      ],
      "execution_count": 45,
      "outputs": [
        {
          "output_type": "stream",
          "name": "stdout",
          "text": [
            "Peak f1 score of 0.8321678321678322 is reached with word count of 95\n"
          ]
        },
        {
          "output_type": "display_data",
          "data": {
            "image/png": "[encoded data removed]",
            "text/plain": [
              "<Figure size 432x288 with 1 Axes>"
            ]
          },
          "metadata": {
            "needs_background": "light"
          }
        }
      ]
    },
    {
      "cell_type": "code",
      "metadata": {
        "id": "rvJ4DG0e1OEp"
      },
      "source": [
        "# Best Word List Classifier \n",
        "import statistics\n",
        "\n",
        "best_wl_pres = []\n",
        "best_wl_rec = []\n",
        "best_wl_f1 = []\n",
        "\n",
        "best_k = 75\n",
        "\n",
        "# Collecting results over 10 iterations\n",
        "for i in range(10):\n",
        "  best_wl_classifier = WordListClassifier(positive_wordList[:best_k], negative_wordList[:best_k])\n",
        "  predictions = best_wl_classifier.classify_many(testing)\n",
        "  _, pres, rec, f1 = conf_matrix(labels, predictions)\n",
        "\n",
        "  best_wl_pres.append(pres)\n",
        "  best_wl_rec.append(rec)\n",
        "  best_wl_f1.append(f1)\n",
        "\n",
        "best_wl_pres = statistics.mean(best_wl_pres)\n",
        "best_wl_rec = statistics.mean(best_wl_rec)\n",
        "best_wl_f1 = statistics.mean(best_wl_f1)\n",
        "\n",
        "best_wl_scores = [best_wl_pres, best_wl_rec, best_wl_f1]"
      ],
      "execution_count": 46,
      "outputs": []
    },
    {
      "cell_type": "code",
      "metadata": {
        "colab": {
          "base_uri": "https://localhost:8080/"
        },
        "id": "tc5J18BAIkKd",
        "outputId": "a4ba1cf8-e1b8-429e-e028-bf9c9999c8ea"
      },
      "source": [
        "print(f\"Average Precision: {best_wl_pres}\")\n",
        "print(f\"Average Recall: {best_wl_rec}\")\n",
        "print(f\"Average F1 Score: {best_wl_f1}\")\n"
      ],
      "execution_count": 47,
      "outputs": [
        {
          "output_type": "stream",
          "name": "stdout",
          "text": [
            "Average Precision: 0.8605270981086361\n",
            "Average Recall: 0.7956666666666666\n",
            "Average F1 Score: 0.8268050533989492\n"
          ]
        }
      ]
    },
    {
      "cell_type": "code",
      "metadata": {
        "colab": {
          "base_uri": "https://localhost:8080/"
        },
        "id": "wMoCSPopLiIR",
        "outputId": "6eb04116-6f90-4059-b17a-fc54e5e0e6b1"
      },
      "source": [
        "# Classifier based on frequency score \n",
        "\n",
        "import time\n",
        "start = time.time()\n",
        "\n",
        "# Running our program - deriving a ranked list of positive and negative words that can be used for the word list classifer \n",
        "unique_K = 1000\n",
        "ratio_k = 3000\n",
        "ratio = 2.5\n",
        "positive_wordList, negative_wordList = get_wordList(pos_review_ids, neg_review_ids, unique_K, ratio_k, ratio)\n",
        "# Runnning classifier\n",
        "freq_classifier = WordListClassifier(positive_wordList[:95], negative_wordList[:95])\n",
        "freq_testing, freq_labels = zip(*testing_norm)\n",
        "freq_predictions = freq_classifier.classify_many(freq_testing)\n",
        "# Execution time\n",
        "end = time.time()\n",
        "print(f\"time: {end - start}\")\n",
        "# Evaluating classifier  \n",
        "evaluate_cls(freq_predictions)\n",
        "accuracy, precision, recall, F1 = conf_matrix(freq_labels, freq_predictions)\n",
        "print(f\" n\\Precision: {precision}\")\n",
        "print(f\" Recall: {recall}\")\n",
        "print(f\" F1 Score: {F1}\")"
      ],
      "execution_count": 55,
      "outputs": [
        {
          "output_type": "stream",
          "name": "stdout",
          "text": [
            "Positive Uniques: 169\n",
            "Negative Uniques169\n",
            "\n",
            "Positive with 3000 times higher ratio: 62\n",
            "Negative  with 3000 times higher ratio: 20\n",
            "time: 32.26856303215027\n",
            "===Number of Neutal Scores===\n",
            "\n",
            "A total of 36 got neutral score and classified randomly\n",
            "\n",
            "\n",
            "===Average Scores (absolute value)===\n",
            "\n",
            "Average score: 6.078333333333333\n",
            " n\\Precision: 0.8644688644688645\n",
            " Recall: 0.7866666666666666\n",
            " F1 Score: 0.8237347294938918\n"
          ]
        }
      ]
    },
    {
      "cell_type": "code",
      "metadata": {
        "colab": {
          "base_uri": "https://localhost:8080/"
        },
        "id": "PQyMxpcWay-V",
        "outputId": "4a0ad04a-99c6-4c50-c773-bcf8d9498a2f"
      },
      "source": [
        "# Classifier based on frequency score \n",
        "\n",
        "import time\n",
        "start = time.time()\n",
        "\n",
        "# Running our program - deriving a ranked list of positive and negative words that can be used for the word list classifer \n",
        "unique_K = 1000\n",
        "ratio_k = 3000\n",
        "ratio = 2.5\n",
        "positive_wordList, negative_wordList = get_wordList(pos_review_ids, neg_review_ids, unique_K, ratio_k, ratio)\n",
        "# Runnning classifier - with all words in the word list included\n",
        "freq_classifier = WordListClassifier(positive_wordList, negative_wordList)\n",
        "freq_testing, freq_labels = zip(*testing_norm)\n",
        "freq_predictions = freq_classifier.classify_many(freq_testing)\n",
        "# Execution time\n",
        "end = time.time()\n",
        "print(f\"time: {end - start}\")\n",
        "\n",
        "# Confusion matrix\n",
        "accuracy, precision, recall, F1 = conf_matrix(freq_labels, freq_predictions)\n",
        "\n",
        "print(f\" Precision: {precision}\")\n",
        "print(f\" Recall: {recall}\")\n",
        "print(f\" F1 Score: {F1}\")\n",
        "evaluate_cls(freq_predictions)"
      ],
      "execution_count": 56,
      "outputs": [
        {
          "output_type": "stream",
          "name": "stdout",
          "text": [
            "Positive Uniques: 169\n",
            "Negative Uniques169\n",
            "\n",
            "Positive with 3000 times higher ratio: 62\n",
            "Negative  with 3000 times higher ratio: 20\n",
            "time: 33.73471450805664\n",
            " Precision: 0.8161290322580645\n",
            " Recall: 0.8433333333333334\n",
            " F1 Score: 0.8295081967213114\n",
            "===Number of Neutal Scores===\n",
            "\n",
            "A total of 24 got neutral score and classified randomly\n",
            "\n",
            "\n",
            "===Average Scores (absolute value)===\n",
            "\n",
            "Average score: 10.955\n"
          ]
        }
      ]
    },
    {
      "cell_type": "code",
      "metadata": {
        "colab": {
          "base_uri": "https://localhost:8080/"
        },
        "id": "Vz9vpo9O7FpD",
        "outputId": "e49c3fd8-574d-445d-efa4-5b7a90769548"
      },
      "source": [
        "# Best Naive Bayes Classiffier\n",
        "start = time.time()\n",
        "best_NB_classifier = run_results(mnb, cv)\n",
        "end = time.time()\n",
        "print(f\"time: {end - start}\")"
      ],
      "execution_count": 54,
      "outputs": [
        {
          "output_type": "stream",
          "name": "stdout",
          "text": [
            "              precision    recall  f1-score   support\n",
            "\n",
            "           0       0.80      0.83      0.81       298\n",
            "           1       0.82      0.79      0.81       302\n",
            "\n",
            "    accuracy                           0.81       600\n",
            "   macro avg       0.81      0.81      0.81       600\n",
            "weighted avg       0.81      0.81      0.81       600\n",
            "\n",
            "time: 3.9841694831848145\n"
          ]
        }
      ]
    },
    {
      "cell_type": "code",
      "metadata": {
        "colab": {
          "base_uri": "https://localhost:8080/",
          "height": 422
        },
        "id": "wA8n2FRa84O8",
        "outputId": "306af0a6-6cb3-40e3-84e1-83746eb6a1f3"
      },
      "source": [
        "best_scores_listed = [[wl, nb] for wl, nb in zip(best_wl_scores, best_NB_classifier)]\n",
        "\n",
        "index_best_ = [\"Best Word List Classifier\", \"Best Naive Bayes Classifier\"]\n",
        "\n",
        "df = pd.DataFrame({\"Precision\": best_scores_listed[0], \"Recall\": best_scores_listed[1], \n",
        "                  \"F1 Score\": best_scores_listed[2]}, index = index_best_)\n",
        "\n",
        "ax = df.plot.bar(rot=0, figsize=(12,6))\n",
        "ax.set_xlabel(\"score types\")\n",
        "ax.set_ylabel(\"scores\")\n",
        "print(\"Comparison of scores with the best classifier (Naive Bayes and Word List)\")\n",
        "ax"
      ],
      "execution_count": 51,
      "outputs": [
        {
          "output_type": "stream",
          "name": "stdout",
          "text": [
            "Comparison of scores with the best classifier (Naive Bayes and Word List)\n"
          ]
        },
        {
          "output_type": "execute_result",
          "data": {
            "text/plain": [
              "<matplotlib.axes._subplots.AxesSubplot at 0x7f5a3edef350>"
            ]
          },
          "metadata": {},
          "execution_count": 51
        },
        {
          "output_type": "display_data",
          "data": {
            "image/png": "[encoded data removed]",
            "text/plain": [
              "<Figure size 864x432 with 1 Axes>"
            ]
          },
          "metadata": {
            "needs_background": "light"
          }
        }
      ]
    },
    {
      "cell_type": "markdown",
      "metadata": {
        "id": "-JMrHcucrNaX"
      },
      "source": [
        "**Question 5B:**"
      ]
    },
    {
      "cell_type": "markdown",
      "metadata": {
        "id": "9nswI8jgnuMV"
      },
      "source": [
        "Having established disparities in the quality of word lists of 10 words, we aim to carry out experiments to identify a more suitable length for our word list classifier. Considering our smallest word list of filtered words is 189 words, we tested the increase in the size word from 5 to 180 words (increasing by 5 for each iteration). Our plot for F1 score against increasing size of word list suggested that the increase rate in F1 score decreases after the word list reaches a size of approximately 25 words. While precision peaked with a word list of 105 words, the overall performance appeared to be consistent with recall which peaked at 75 words. Therefore, the peak performance for F1 score was a word list of 75 words at 86%. \n",
        "\n",
        "Thereafter, we collected the average precision, recalls and F1 scores by running the word list classifier 10 times to minimize uncertainties posed when faced with neutral scores. This  not only presented us with a higher recall of 78.7% and higher precision of 86.5%, but we also witnessed a decrease in disparities between the two suggesting a less biased method when in comparison to a list of 10 words. Furthermore, the number of neutral scores were also reduced from 123 to only 36 from 600 predictions and the variation in scores increased from 2.17 to 6.07. Therefore, we managed to increase consistency in precision and recall by reducing the role serendipity (where neutral scores are classified randomly). Although we were able to filter an uneven number of useful words for each category (189 negatives and 231 positives), we were able to reduce the variation between precision (82.1%) and recall (85.3%) when we used all the words in both word lists derived. This suggests that our approach in filtering out useful words is rather balanced, despite producing a larger word list for the positives than negatives. This also reduced the number of neutral classification to 24 and nearly doubled the average |score| to 10.95, thus reducing bias in our classifier. \n",
        "\n",
        "Although the wordlist classifier produced higher precision and recall scores, MNB was more consistent with 81% for both recall and precision. This may be due to the 24 predictions that were neutral and classified randomly which may have marginally increased uncertainty in the algorithm. Considering the training data used was fairly balanced in respect to proportion and quality for both categories, we may want to consider what would happen if the data was less balanced. While the word list classifier may be altered to perform different scoring techniques such as weighing by importance or uniform score for occurrence when faced with a neutral score to reduce the role of serendipity. It would add extra complexity to our model and increase the run time. Despite the word list classifier attaining better results when fed with balanced training data, MNB may be more suitable when dealing with more biased datasets. Overall, MNB had a run time of approximately 3.9 seconds, whereas the words list classifier had run time approximately 31 seconds. Therefore, this makes MNB a better choice when dealing with larger data sets with greater uncertainties as it is 7 times faster computationally and more consistent in classification. \n"
      ]
    },
    {
      "cell_type": "code",
      "metadata": {
        "id": "34rdlS_iPov6",
        "colab": {
          "base_uri": "https://localhost:8080/"
        },
        "outputId": "d6097112-90fa-49e1-d52f-468af4cffae6"
      },
      "source": [
        "##This code will word count all of the markdown cells in the notebook saved at filepath\n",
        "##Running it before providing any answers shows that the questions have a word count of 437\n",
        "\n",
        "from google.colab import drive\n",
        "drive.mount('/content/drive')\n",
        "import io\n",
        "from nbformat import current\n",
        "\n",
        "filepath=\"/content/drive/MyDrive/Colab Notebooks/NLP ASSIGNMENT FINAL.ipynb\"\n",
        "#filepath=\"NLassignment2021.ipynb\"\n",
        "question_count=437\n",
        "\n",
        "with io.open(filepath, 'r', encoding='utf-8') as f:\n",
        "    nb = current.read(f, 'json')\n",
        "\n",
        "word_count = 0\n",
        "for cell in nb.worksheets[0].cells:\n",
        "    if cell.cell_type == \"markdown\":\n",
        "        word_count += len(cell['source'].replace('#', '').lstrip().split(' '))\n",
        "print(\"Submission length is {}\".format(word_count-question_count))"
      ],
      "execution_count": 57,
      "outputs": [
        {
          "output_type": "stream",
          "name": "stdout",
          "text": [
            "Mounted at /content/drive\n"
          ]
        },
        {
          "output_type": "stream",
          "name": "stderr",
          "text": [
            "/usr/local/lib/python3.7/dist-packages/nbformat/current.py:19: UserWarning: nbformat.current is deprecated.\n",
            "\n",
            "- use nbformat for read/write/validate public API\n",
            "- use nbformat.vX directly to composing notebooks of a particular version\n",
            "\n",
            "  \"\"\")\n"
          ]
        },
        {
          "output_type": "stream",
          "name": "stdout",
          "text": [
            "Submission length is 1812\n"
          ]
        }
      ]
    },
    {
      "cell_type": "code",
      "metadata": {
        "id": "PtqCcG6wPsmf"
      },
      "source": [
        ""
      ],
      "execution_count": null,
      "outputs": []
    }
  ]
}